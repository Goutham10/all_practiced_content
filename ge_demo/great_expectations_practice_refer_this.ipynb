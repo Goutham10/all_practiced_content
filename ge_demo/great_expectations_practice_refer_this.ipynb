{
 "cells": [
  {
   "cell_type": "code",
   "execution_count": 3,
   "id": "32ba838e",
   "metadata": {},
   "outputs": [],
   "source": [
    "import pandas as pd\n",
    "from ruamel import yaml\n",
    "import great_expectations as ge\n",
    "from great_expectations.core.batch import RuntimeBatchRequest\n",
    "\n"
   ]
  },
  {
   "cell_type": "code",
   "execution_count": 4,
   "id": "dce9a71e",
   "metadata": {},
   "outputs": [
    {
     "name": "stderr",
     "output_type": "stream",
     "text": [
      "Cannot initialize datasource userdetails: Cannot initialize datasource userdetails, error: Couldn't instantiate class: SimpleSqlalchemyDatasource with config: \n",
      "\tcredentials\t\t{'drivername': 'postgresql', 'username': 'postgres', 'password': 'sunny123', 'host': 'localhost', 'port': 5432, 'database': 'postgre_flask'}\n",
      "\tintrospection\t\t{'whole_table': {'class_name': 'InferredAssetSqlDataConnector', 'module_name': 'great_expectations.datasource.data_connector'}}\n",
      "\tname\t\tuserdetails\n",
      " \n",
      "dict() got multiple values for keyword argument 'class_name'\n"
     ]
    }
   ],
   "source": [
    "context = ge.get_context()"
   ]
  },
  {
   "cell_type": "code",
   "execution_count": 5,
   "id": "0ab4d7c8",
   "metadata": {},
   "outputs": [],
   "source": [
    "datasource_config = {\n",
    "    \"name\": \"example_datasource\",\n",
    "    \"class_name\": \"Datasource\",\n",
    "    \"module_name\": \"great_expectations.datasource\",\n",
    "    \"execution_engine\": {\n",
    "        \"module_name\": \"great_expectations.execution_engine\",\n",
    "        \"class_name\": \"PandasExecutionEngine\",\n",
    "    },\n",
    "    \"data_connectors\": {\n",
    "        \"default_runtime_data_connector_name\": {\n",
    "            \"class_name\": \"RuntimeDataConnector\",\n",
    "            \"module_name\": \"great_expectations.datasource.data_connector\",\n",
    "            \"batch_identifiers\": [\"default_identifier_name\"],\n",
    "        },\n",
    "    },\n",
    "}"
   ]
  },
  {
   "cell_type": "code",
   "execution_count": 6,
   "id": "31e26f6f",
   "metadata": {},
   "outputs": [
    {
     "name": "stdout",
     "output_type": "stream",
     "text": [
      "Attempting to instantiate class from config...\n",
      "\tInstantiating as a Datasource, since class_name is Datasource\n",
      "\tSuccessfully instantiated Datasource\n",
      "\n",
      "\n",
      "ExecutionEngine class name: PandasExecutionEngine\n",
      "Data Connectors:\n",
      "\tdefault_runtime_data_connector_name:RuntimeDataConnector\n",
      "\n",
      "\tAvailable data_asset_names (0 of 0):\n",
      "\t\tNote : RuntimeDataConnector will not have data_asset_names until they are passed in through RuntimeBatchRequest\n",
      "\n",
      "\tUnmatched data_references (0 of 0): []\n",
      "\n"
     ]
    },
    {
     "data": {
      "text/plain": [
       "<great_expectations.datasource.new_datasource.Datasource at 0x7f52209328b0>"
      ]
     },
     "execution_count": 6,
     "metadata": {},
     "output_type": "execute_result"
    }
   ],
   "source": [
    "context.test_yaml_config(yaml.dump(datasource_config))"
   ]
  },
  {
   "cell_type": "code",
   "execution_count": 7,
   "id": "a4e718b0",
   "metadata": {},
   "outputs": [
    {
     "data": {
      "text/plain": [
       "<great_expectations.datasource.new_datasource.Datasource at 0x7f522090f1c0>"
      ]
     },
     "execution_count": 7,
     "metadata": {},
     "output_type": "execute_result"
    }
   ],
   "source": [
    "context.add_datasource(**datasource_config)\n"
   ]
  },
  {
   "cell_type": "code",
   "execution_count": 8,
   "id": "6b206147",
   "metadata": {},
   "outputs": [],
   "source": [
    "df = pd.DataFrame([[1, 2, 3], [4, 5, 6], [7, 8, 9]], columns=[\"a\", \"b\", \"c\"])"
   ]
  },
  {
   "cell_type": "code",
   "execution_count": 9,
   "id": "f2989414",
   "metadata": {},
   "outputs": [
    {
     "data": {
      "text/html": [
       "<div>\n",
       "<style scoped>\n",
       "    .dataframe tbody tr th:only-of-type {\n",
       "        vertical-align: middle;\n",
       "    }\n",
       "\n",
       "    .dataframe tbody tr th {\n",
       "        vertical-align: top;\n",
       "    }\n",
       "\n",
       "    .dataframe thead th {\n",
       "        text-align: right;\n",
       "    }\n",
       "</style>\n",
       "<table border=\"1\" class=\"dataframe\">\n",
       "  <thead>\n",
       "    <tr style=\"text-align: right;\">\n",
       "      <th></th>\n",
       "      <th>a</th>\n",
       "      <th>b</th>\n",
       "      <th>c</th>\n",
       "    </tr>\n",
       "  </thead>\n",
       "  <tbody>\n",
       "    <tr>\n",
       "      <th>0</th>\n",
       "      <td>1</td>\n",
       "      <td>2</td>\n",
       "      <td>3</td>\n",
       "    </tr>\n",
       "    <tr>\n",
       "      <th>1</th>\n",
       "      <td>4</td>\n",
       "      <td>5</td>\n",
       "      <td>6</td>\n",
       "    </tr>\n",
       "    <tr>\n",
       "      <th>2</th>\n",
       "      <td>7</td>\n",
       "      <td>8</td>\n",
       "      <td>9</td>\n",
       "    </tr>\n",
       "  </tbody>\n",
       "</table>\n",
       "</div>"
      ],
      "text/plain": [
       "   a  b  c\n",
       "0  1  2  3\n",
       "1  4  5  6\n",
       "2  7  8  9"
      ]
     },
     "execution_count": 9,
     "metadata": {},
     "output_type": "execute_result"
    }
   ],
   "source": [
    "df"
   ]
  },
  {
   "cell_type": "code",
   "execution_count": 10,
   "id": "8c6eed8f",
   "metadata": {},
   "outputs": [],
   "source": [
    "batch_request = RuntimeBatchRequest(\n",
    "    datasource_name=\"example_datasource\",\n",
    "    data_connector_name=\"default_runtime_data_connector_name\",\n",
    "    data_asset_name=\"<YOUR_MEANINGFUL_NAME>\",  # This can be anything that identifies this data_asset for you\n",
    "    runtime_parameters={\"batch_data\": df},  # df is your dataframe\n",
    "    batch_identifiers={\"default_identifier_name\": \"default_identifier\"},\n",
    ")"
   ]
  },
  {
   "cell_type": "code",
   "execution_count": 11,
   "id": "ff2fd783",
   "metadata": {},
   "outputs": [
    {
     "data": {
      "text/plain": [
       "{\n",
       "  \"datasource_name\": \"example_datasource\",\n",
       "  \"data_connector_name\": \"default_runtime_data_connector_name\",\n",
       "  \"data_asset_name\": \"<YOUR_MEANINGFUL_NAME>\",\n",
       "  \"runtime_parameters\": {\n",
       "    \"batch_data\": [\n",
       "      {\n",
       "        \"a\": 1,\n",
       "        \"b\": 2,\n",
       "        \"c\": 3\n",
       "      },\n",
       "      {\n",
       "        \"a\": 4,\n",
       "        \"b\": 5,\n",
       "        \"c\": 6\n",
       "      },\n",
       "      {\n",
       "        \"a\": 7,\n",
       "        \"b\": 8,\n",
       "        \"c\": 9\n",
       "      }\n",
       "    ]\n",
       "  },\n",
       "  \"batch_identifiers\": {\n",
       "    \"default_identifier_name\": \"default_identifier\"\n",
       "  }\n",
       "}"
      ]
     },
     "execution_count": 11,
     "metadata": {},
     "output_type": "execute_result"
    }
   ],
   "source": [
    "batch_request"
   ]
  },
  {
   "cell_type": "code",
   "execution_count": 12,
   "id": "4a59560c",
   "metadata": {},
   "outputs": [
    {
     "data": {
      "application/vnd.jupyter.widget-view+json": {
       "model_id": "077b6a77c2f2478486ca63478f44bce2",
       "version_major": 2,
       "version_minor": 0
      },
      "text/plain": [
       "Calculating Metrics:   0%|          | 0/1 [00:00<?, ?it/s]"
      ]
     },
     "metadata": {},
     "output_type": "display_data"
    },
    {
     "data": {
      "application/vnd.jupyter.widget-view+json": {
       "model_id": "f11bb22c4066420f929407817ec7c47c",
       "version_major": 2,
       "version_minor": 0
      },
      "text/plain": [
       "Calculating Metrics:   0%|          | 0/2 [00:00<?, ?it/s]"
      ]
     },
     "metadata": {},
     "output_type": "display_data"
    },
    {
     "data": {
      "application/vnd.jupyter.widget-view+json": {
       "model_id": "8a5e0e1afc064146bafabe281e699af5",
       "version_major": 2,
       "version_minor": 0
      },
      "text/plain": [
       "Calculating Metrics:   0%|          | 0/4 [00:00<?, ?it/s]"
      ]
     },
     "metadata": {},
     "output_type": "display_data"
    },
    {
     "data": {
      "application/vnd.jupyter.widget-view+json": {
       "model_id": "f65261a6eda94275a12a747bfcf23556",
       "version_major": 2,
       "version_minor": 0
      },
      "text/plain": [
       "Calculating Metrics:   0%|          | 0/7 [00:00<?, ?it/s]"
      ]
     },
     "metadata": {},
     "output_type": "display_data"
    },
    {
     "data": {
      "application/vnd.jupyter.widget-view+json": {
       "model_id": "a9688f842f484b6691b072010c0ba9ae",
       "version_major": 2,
       "version_minor": 0
      },
      "text/plain": [
       "Calculating Metrics:   0%|          | 0/1 [00:00<?, ?it/s]"
      ]
     },
     "metadata": {},
     "output_type": "display_data"
    },
    {
     "data": {
      "application/vnd.jupyter.widget-view+json": {
       "model_id": "4837f0176a9d4e78bf51433ac05ff93d",
       "version_major": 2,
       "version_minor": 0
      },
      "text/plain": [
       "Calculating Metrics:   0%|          | 0/1 [00:00<?, ?it/s]"
      ]
     },
     "metadata": {},
     "output_type": "display_data"
    },
    {
     "data": {
      "application/vnd.jupyter.widget-view+json": {
       "model_id": "815a5549010d4397b3c3195639f1ba94",
       "version_major": 2,
       "version_minor": 0
      },
      "text/plain": [
       "Calculating Metrics:   0%|          | 0/1 [00:00<?, ?it/s]"
      ]
     },
     "metadata": {},
     "output_type": "display_data"
    },
    {
     "data": {
      "application/vnd.jupyter.widget-view+json": {
       "model_id": "e36a8b90da8f4da083a21151db18f40c",
       "version_major": 2,
       "version_minor": 0
      },
      "text/plain": [
       "Calculating Metrics:   0%|          | 0/4 [00:00<?, ?it/s]"
      ]
     },
     "metadata": {},
     "output_type": "display_data"
    },
    {
     "data": {
      "application/vnd.jupyter.widget-view+json": {
       "model_id": "7c092af2cb7d40fc9f69b05eb09b0410",
       "version_major": 2,
       "version_minor": 0
      },
      "text/plain": [
       "Calculating Metrics:   0%|          | 0/7 [00:00<?, ?it/s]"
      ]
     },
     "metadata": {},
     "output_type": "display_data"
    },
    {
     "data": {
      "application/vnd.jupyter.widget-view+json": {
       "model_id": "49cdaa1ebc774bc19287ca4bd88e8857",
       "version_major": 2,
       "version_minor": 0
      },
      "text/plain": [
       "Calculating Metrics:   0%|          | 0/1 [00:00<?, ?it/s]"
      ]
     },
     "metadata": {},
     "output_type": "display_data"
    },
    {
     "data": {
      "application/vnd.jupyter.widget-view+json": {
       "model_id": "03fb369a3a264e8faac0dfdab1ad7725",
       "version_major": 2,
       "version_minor": 0
      },
      "text/plain": [
       "Calculating Metrics:   0%|          | 0/1 [00:00<?, ?it/s]"
      ]
     },
     "metadata": {},
     "output_type": "display_data"
    },
    {
     "data": {
      "application/vnd.jupyter.widget-view+json": {
       "model_id": "23f9df7dac2940198aa77a025435aa61",
       "version_major": 2,
       "version_minor": 0
      },
      "text/plain": [
       "Calculating Metrics:   0%|          | 0/1 [00:00<?, ?it/s]"
      ]
     },
     "metadata": {},
     "output_type": "display_data"
    },
    {
     "data": {
      "application/vnd.jupyter.widget-view+json": {
       "model_id": "3601a902d3e14c20887c10078a01a3fe",
       "version_major": 2,
       "version_minor": 0
      },
      "text/plain": [
       "Calculating Metrics:   0%|          | 0/4 [00:00<?, ?it/s]"
      ]
     },
     "metadata": {},
     "output_type": "display_data"
    },
    {
     "data": {
      "application/vnd.jupyter.widget-view+json": {
       "model_id": "86ad4c1ca93e451b8e0d4767cd17a7da",
       "version_major": 2,
       "version_minor": 0
      },
      "text/plain": [
       "Calculating Metrics:   0%|          | 0/7 [00:00<?, ?it/s]"
      ]
     },
     "metadata": {},
     "output_type": "display_data"
    },
    {
     "data": {
      "application/vnd.jupyter.widget-view+json": {
       "model_id": "e552532a58e34400ba8b7c2f505751d2",
       "version_major": 2,
       "version_minor": 0
      },
      "text/plain": [
       "Calculating Metrics:   0%|          | 0/1 [00:00<?, ?it/s]"
      ]
     },
     "metadata": {},
     "output_type": "display_data"
    },
    {
     "data": {
      "application/vnd.jupyter.widget-view+json": {
       "model_id": "62a314706b0a45b1beb584f8cec1f3b8",
       "version_major": 2,
       "version_minor": 0
      },
      "text/plain": [
       "Calculating Metrics:   0%|          | 0/1 [00:00<?, ?it/s]"
      ]
     },
     "metadata": {},
     "output_type": "display_data"
    },
    {
     "data": {
      "application/vnd.jupyter.widget-view+json": {
       "model_id": "b539cd684ab446c0b3269534c3eb75af",
       "version_major": 2,
       "version_minor": 0
      },
      "text/plain": [
       "Calculating Metrics:   0%|          | 0/1 [00:00<?, ?it/s]"
      ]
     },
     "metadata": {},
     "output_type": "display_data"
    }
   ],
   "source": [
    "context.create_expectation_suite(\n",
    "    expectation_suite_name=\"test_suite\", overwrite_existing=True\n",
    ")\n",
    "validator = context.get_validator(\n",
    "    batch_request=batch_request, expectation_suite_name=\"test_suite\"\n",
    ")\n",
    "(validator.head())\n",
    "from great_expectations.profile.user_configurable_profiler import UserConfigurableProfiler\n",
    "profiler = UserConfigurableProfiler(profile_dataset=validator)"
   ]
  },
  {
   "cell_type": "code",
   "execution_count": 14,
   "id": "bf63b302",
   "metadata": {},
   "outputs": [
    {
     "data": {
      "application/vnd.jupyter.widget-view+json": {
       "model_id": "e6cea7c7bffe4432b2cf6779c0eabe04",
       "version_major": 2,
       "version_minor": 0
      },
      "text/plain": [
       "Calculating Metrics:   0%|          | 0/2 [00:00<?, ?it/s]"
      ]
     },
     "metadata": {},
     "output_type": "display_data"
    },
    {
     "data": {
      "application/vnd.jupyter.widget-view+json": {
       "model_id": "904aa05487cf4e518286480303e0d357",
       "version_major": 2,
       "version_minor": 0
      },
      "text/plain": [
       "Calculating Metrics:   0%|          | 0/4 [00:00<?, ?it/s]"
      ]
     },
     "metadata": {},
     "output_type": "display_data"
    },
    {
     "data": {
      "application/vnd.jupyter.widget-view+json": {
       "model_id": "42e77ebac5324fd089a3da0972f828ef",
       "version_major": 2,
       "version_minor": 0
      },
      "text/plain": [
       "Calculating Metrics:   0%|          | 0/7 [00:00<?, ?it/s]"
      ]
     },
     "metadata": {},
     "output_type": "display_data"
    },
    {
     "data": {
      "application/vnd.jupyter.widget-view+json": {
       "model_id": "494f559bdec94797a84ff5a06faaa6bb",
       "version_major": 2,
       "version_minor": 0
      },
      "text/plain": [
       "Calculating Metrics:   0%|          | 0/1 [00:00<?, ?it/s]"
      ]
     },
     "metadata": {},
     "output_type": "display_data"
    },
    {
     "data": {
      "application/vnd.jupyter.widget-view+json": {
       "model_id": "7f203c84de124f219c8a83baf8eba52d",
       "version_major": 2,
       "version_minor": 0
      },
      "text/plain": [
       "Calculating Metrics:   0%|          | 0/1 [00:00<?, ?it/s]"
      ]
     },
     "metadata": {},
     "output_type": "display_data"
    },
    {
     "data": {
      "application/vnd.jupyter.widget-view+json": {
       "model_id": "856d4ee1d0ff428e9c9ca49ec6d531af",
       "version_major": 2,
       "version_minor": 0
      },
      "text/plain": [
       "Calculating Metrics:   0%|          | 0/1 [00:00<?, ?it/s]"
      ]
     },
     "metadata": {},
     "output_type": "display_data"
    },
    {
     "data": {
      "application/vnd.jupyter.widget-view+json": {
       "model_id": "11ea81cb3239456fabfe202a74fdfdd7",
       "version_major": 2,
       "version_minor": 0
      },
      "text/plain": [
       "Calculating Metrics:   0%|          | 0/4 [00:00<?, ?it/s]"
      ]
     },
     "metadata": {},
     "output_type": "display_data"
    },
    {
     "data": {
      "application/vnd.jupyter.widget-view+json": {
       "model_id": "b68c0b70b0604ef3ab92f2f708f14c88",
       "version_major": 2,
       "version_minor": 0
      },
      "text/plain": [
       "Calculating Metrics:   0%|          | 0/7 [00:00<?, ?it/s]"
      ]
     },
     "metadata": {},
     "output_type": "display_data"
    },
    {
     "data": {
      "application/vnd.jupyter.widget-view+json": {
       "model_id": "bd2bd2b0fb234d53ad1f00de824a869b",
       "version_major": 2,
       "version_minor": 0
      },
      "text/plain": [
       "Calculating Metrics:   0%|          | 0/1 [00:00<?, ?it/s]"
      ]
     },
     "metadata": {},
     "output_type": "display_data"
    },
    {
     "data": {
      "application/vnd.jupyter.widget-view+json": {
       "model_id": "077ccc79a6144039a37d851b38f6f8f3",
       "version_major": 2,
       "version_minor": 0
      },
      "text/plain": [
       "Calculating Metrics:   0%|          | 0/1 [00:00<?, ?it/s]"
      ]
     },
     "metadata": {},
     "output_type": "display_data"
    },
    {
     "data": {
      "application/vnd.jupyter.widget-view+json": {
       "model_id": "bda72108d22347b8a3bebafeb1c8ac53",
       "version_major": 2,
       "version_minor": 0
      },
      "text/plain": [
       "Calculating Metrics:   0%|          | 0/1 [00:00<?, ?it/s]"
      ]
     },
     "metadata": {},
     "output_type": "display_data"
    },
    {
     "data": {
      "application/vnd.jupyter.widget-view+json": {
       "model_id": "3d37d79f6dc740b7aabdeea044a06b61",
       "version_major": 2,
       "version_minor": 0
      },
      "text/plain": [
       "Calculating Metrics:   0%|          | 0/4 [00:00<?, ?it/s]"
      ]
     },
     "metadata": {},
     "output_type": "display_data"
    },
    {
     "data": {
      "application/vnd.jupyter.widget-view+json": {
       "model_id": "ebe6b4188b654920b20298ad2a61e5f2",
       "version_major": 2,
       "version_minor": 0
      },
      "text/plain": [
       "Calculating Metrics:   0%|          | 0/7 [00:00<?, ?it/s]"
      ]
     },
     "metadata": {},
     "output_type": "display_data"
    },
    {
     "data": {
      "application/vnd.jupyter.widget-view+json": {
       "model_id": "887586b1d8564e4b8af5fcb4f666562c",
       "version_major": 2,
       "version_minor": 0
      },
      "text/plain": [
       "Calculating Metrics:   0%|          | 0/1 [00:00<?, ?it/s]"
      ]
     },
     "metadata": {},
     "output_type": "display_data"
    },
    {
     "data": {
      "application/vnd.jupyter.widget-view+json": {
       "model_id": "be5095f2ff114aedab15007a31837acd",
       "version_major": 2,
       "version_minor": 0
      },
      "text/plain": [
       "Calculating Metrics:   0%|          | 0/1 [00:00<?, ?it/s]"
      ]
     },
     "metadata": {},
     "output_type": "display_data"
    },
    {
     "data": {
      "application/vnd.jupyter.widget-view+json": {
       "model_id": "627b39f507124f469bc6f072c6941878",
       "version_major": 2,
       "version_minor": 0
      },
      "text/plain": [
       "Calculating Metrics:   0%|          | 0/1 [00:00<?, ?it/s]"
      ]
     },
     "metadata": {},
     "output_type": "display_data"
    },
    {
     "data": {
      "application/vnd.jupyter.widget-view+json": {
       "model_id": "e103ff83a41b42e388ca61e1218c99ae",
       "version_major": 2,
       "version_minor": 0
      },
      "text/plain": [
       "Calculating Metrics:   0%|          | 0/2 [00:00<?, ?it/s]"
      ]
     },
     "metadata": {},
     "output_type": "display_data"
    },
    {
     "data": {
      "application/vnd.jupyter.widget-view+json": {
       "model_id": "17828c3ce9ab430c82981317f113ccf8",
       "version_major": 2,
       "version_minor": 0
      },
      "text/plain": [
       "Calculating Metrics:   0%|          | 0/1 [00:00<?, ?it/s]"
      ]
     },
     "metadata": {},
     "output_type": "display_data"
    },
    {
     "data": {
      "application/vnd.jupyter.widget-view+json": {
       "model_id": "c8506bf4140645e8b8371474445cc82d",
       "version_major": 2,
       "version_minor": 0
      },
      "text/plain": [
       "Calculating Metrics:   0%|          | 0/1 [00:00<?, ?it/s]"
      ]
     },
     "metadata": {},
     "output_type": "display_data"
    },
    {
     "data": {
      "application/vnd.jupyter.widget-view+json": {
       "model_id": "161d561a08c54c28a937a72f25211f59",
       "version_major": 2,
       "version_minor": 0
      },
      "text/plain": [
       "Profiling:   0%|          | 0/3 [00:00<?, ?it/s, Column=a]"
      ]
     },
     "metadata": {},
     "output_type": "display_data"
    },
    {
     "data": {
      "application/vnd.jupyter.widget-view+json": {
       "model_id": "68d262f2dbea435087e31b6cf9eee0a8",
       "version_major": 2,
       "version_minor": 0
      },
      "text/plain": [
       "Calculating Metrics:   0%|          | 0/4 [00:00<?, ?it/s]"
      ]
     },
     "metadata": {},
     "output_type": "display_data"
    },
    {
     "data": {
      "application/vnd.jupyter.widget-view+json": {
       "model_id": "02bfd088321444a6a502a9360928d8e2",
       "version_major": 2,
       "version_minor": 0
      },
      "text/plain": [
       "Calculating Metrics:   0%|          | 0/4 [00:00<?, ?it/s]"
      ]
     },
     "metadata": {},
     "output_type": "display_data"
    },
    {
     "data": {
      "application/vnd.jupyter.widget-view+json": {
       "model_id": "3d14487f94024e889937100f6c32c13f",
       "version_major": 2,
       "version_minor": 0
      },
      "text/plain": [
       "Calculating Metrics:   0%|          | 0/4 [00:00<?, ?it/s]"
      ]
     },
     "metadata": {},
     "output_type": "display_data"
    },
    {
     "data": {
      "application/vnd.jupyter.widget-view+json": {
       "model_id": "cc3c9821264b4d25ab0df10dc7177a65",
       "version_major": 2,
       "version_minor": 0
      },
      "text/plain": [
       "Calculating Metrics:   0%|          | 0/4 [00:00<?, ?it/s]"
      ]
     },
     "metadata": {},
     "output_type": "display_data"
    },
    {
     "data": {
      "application/vnd.jupyter.widget-view+json": {
       "model_id": "5093954db52d44d79759e8cfbc83f888",
       "version_major": 2,
       "version_minor": 0
      },
      "text/plain": [
       "Calculating Metrics:   0%|          | 0/4 [00:00<?, ?it/s]"
      ]
     },
     "metadata": {},
     "output_type": "display_data"
    },
    {
     "data": {
      "application/vnd.jupyter.widget-view+json": {
       "model_id": "a566d62f09d9401b9cc0bb8aca7a8c64",
       "version_major": 2,
       "version_minor": 0
      },
      "text/plain": [
       "Calculating Metrics:   0%|          | 0/4 [00:00<?, ?it/s]"
      ]
     },
     "metadata": {},
     "output_type": "display_data"
    },
    {
     "data": {
      "application/vnd.jupyter.widget-view+json": {
       "model_id": "2eed29d5778b4a4cbda7aaed1dd21c94",
       "version_major": 2,
       "version_minor": 0
      },
      "text/plain": [
       "Calculating Metrics:   0%|          | 0/4 [00:00<?, ?it/s]"
      ]
     },
     "metadata": {},
     "output_type": "display_data"
    },
    {
     "data": {
      "application/vnd.jupyter.widget-view+json": {
       "model_id": "587d95b304f644979a55cd882325d658",
       "version_major": 2,
       "version_minor": 0
      },
      "text/plain": [
       "Calculating Metrics:   0%|          | 0/4 [00:00<?, ?it/s]"
      ]
     },
     "metadata": {},
     "output_type": "display_data"
    },
    {
     "data": {
      "application/vnd.jupyter.widget-view+json": {
       "model_id": "00e66c3c93324a18b72e006093242b30",
       "version_major": 2,
       "version_minor": 0
      },
      "text/plain": [
       "Calculating Metrics:   0%|          | 0/4 [00:00<?, ?it/s]"
      ]
     },
     "metadata": {},
     "output_type": "display_data"
    },
    {
     "data": {
      "application/vnd.jupyter.widget-view+json": {
       "model_id": "38d414b095d8412abb1a0afde33bf038",
       "version_major": 2,
       "version_minor": 0
      },
      "text/plain": [
       "Calculating Metrics:   0%|          | 0/4 [00:00<?, ?it/s]"
      ]
     },
     "metadata": {},
     "output_type": "display_data"
    },
    {
     "data": {
      "application/vnd.jupyter.widget-view+json": {
       "model_id": "5fb561ccd8eb4ecfa1e62be9ac6a0ac0",
       "version_major": 2,
       "version_minor": 0
      },
      "text/plain": [
       "Calculating Metrics:   0%|          | 0/6 [00:00<?, ?it/s]"
      ]
     },
     "metadata": {},
     "output_type": "display_data"
    },
    {
     "data": {
      "application/vnd.jupyter.widget-view+json": {
       "model_id": "ab14f2f3fde145c3b0ff9fef78f420f8",
       "version_major": 2,
       "version_minor": 0
      },
      "text/plain": [
       "Calculating Metrics:   0%|          | 0/7 [00:00<?, ?it/s]"
      ]
     },
     "metadata": {},
     "output_type": "display_data"
    },
    {
     "data": {
      "application/vnd.jupyter.widget-view+json": {
       "model_id": "ba756aa9b242401db9c2c3d0e00f60bf",
       "version_major": 2,
       "version_minor": 0
      },
      "text/plain": [
       "Calculating Metrics:   0%|          | 0/7 [00:00<?, ?it/s]"
      ]
     },
     "metadata": {},
     "output_type": "display_data"
    },
    {
     "data": {
      "application/vnd.jupyter.widget-view+json": {
       "model_id": "b835577bdf5945608ec9b2d142af918a",
       "version_major": 2,
       "version_minor": 0
      },
      "text/plain": [
       "Calculating Metrics:   0%|          | 0/1 [00:00<?, ?it/s]"
      ]
     },
     "metadata": {},
     "output_type": "display_data"
    },
    {
     "data": {
      "application/vnd.jupyter.widget-view+json": {
       "model_id": "4d424daacd9340ec9acf7109f952fa01",
       "version_major": 2,
       "version_minor": 0
      },
      "text/plain": [
       "Calculating Metrics:   0%|          | 0/4 [00:00<?, ?it/s]"
      ]
     },
     "metadata": {},
     "output_type": "display_data"
    },
    {
     "data": {
      "application/vnd.jupyter.widget-view+json": {
       "model_id": "72d0013748464e85893c0347de9c6abc",
       "version_major": 2,
       "version_minor": 0
      },
      "text/plain": [
       "Calculating Metrics:   0%|          | 0/4 [00:00<?, ?it/s]"
      ]
     },
     "metadata": {},
     "output_type": "display_data"
    },
    {
     "data": {
      "application/vnd.jupyter.widget-view+json": {
       "model_id": "96459dc6eb0b455791e431243111e39e",
       "version_major": 2,
       "version_minor": 0
      },
      "text/plain": [
       "Calculating Metrics:   0%|          | 0/4 [00:00<?, ?it/s]"
      ]
     },
     "metadata": {},
     "output_type": "display_data"
    },
    {
     "data": {
      "application/vnd.jupyter.widget-view+json": {
       "model_id": "bb49b98eabce48e1998e90c3589ecbb1",
       "version_major": 2,
       "version_minor": 0
      },
      "text/plain": [
       "Calculating Metrics:   0%|          | 0/4 [00:00<?, ?it/s]"
      ]
     },
     "metadata": {},
     "output_type": "display_data"
    },
    {
     "data": {
      "application/vnd.jupyter.widget-view+json": {
       "model_id": "45bf6a3770ad44e894072d397e15d9c9",
       "version_major": 2,
       "version_minor": 0
      },
      "text/plain": [
       "Calculating Metrics:   0%|          | 0/4 [00:00<?, ?it/s]"
      ]
     },
     "metadata": {},
     "output_type": "display_data"
    },
    {
     "data": {
      "application/vnd.jupyter.widget-view+json": {
       "model_id": "57aae469b0344eacb72f819f5b7ed03b",
       "version_major": 2,
       "version_minor": 0
      },
      "text/plain": [
       "Calculating Metrics:   0%|          | 0/4 [00:00<?, ?it/s]"
      ]
     },
     "metadata": {},
     "output_type": "display_data"
    },
    {
     "data": {
      "application/vnd.jupyter.widget-view+json": {
       "model_id": "a6b41fd67a7246b8a8d559946cf84ff0",
       "version_major": 2,
       "version_minor": 0
      },
      "text/plain": [
       "Calculating Metrics:   0%|          | 0/4 [00:00<?, ?it/s]"
      ]
     },
     "metadata": {},
     "output_type": "display_data"
    },
    {
     "data": {
      "application/vnd.jupyter.widget-view+json": {
       "model_id": "6ab591785599444aabdbd3d371be2ab7",
       "version_major": 2,
       "version_minor": 0
      },
      "text/plain": [
       "Calculating Metrics:   0%|          | 0/4 [00:00<?, ?it/s]"
      ]
     },
     "metadata": {},
     "output_type": "display_data"
    },
    {
     "data": {
      "application/vnd.jupyter.widget-view+json": {
       "model_id": "75c5d52874e14c409431a67b7dbabbba",
       "version_major": 2,
       "version_minor": 0
      },
      "text/plain": [
       "Calculating Metrics:   0%|          | 0/4 [00:00<?, ?it/s]"
      ]
     },
     "metadata": {},
     "output_type": "display_data"
    },
    {
     "data": {
      "application/vnd.jupyter.widget-view+json": {
       "model_id": "c7e075da25a24e219def44ad42eed841",
       "version_major": 2,
       "version_minor": 0
      },
      "text/plain": [
       "Calculating Metrics:   0%|          | 0/4 [00:00<?, ?it/s]"
      ]
     },
     "metadata": {},
     "output_type": "display_data"
    },
    {
     "data": {
      "application/vnd.jupyter.widget-view+json": {
       "model_id": "2e94128a34cf474db3131bc49d0ad8d6",
       "version_major": 2,
       "version_minor": 0
      },
      "text/plain": [
       "Calculating Metrics:   0%|          | 0/6 [00:00<?, ?it/s]"
      ]
     },
     "metadata": {},
     "output_type": "display_data"
    },
    {
     "data": {
      "application/vnd.jupyter.widget-view+json": {
       "model_id": "ea0e9e24db7f4ea8906ef1ada52e98cb",
       "version_major": 2,
       "version_minor": 0
      },
      "text/plain": [
       "Calculating Metrics:   0%|          | 0/7 [00:00<?, ?it/s]"
      ]
     },
     "metadata": {},
     "output_type": "display_data"
    },
    {
     "data": {
      "application/vnd.jupyter.widget-view+json": {
       "model_id": "abcf105c8adb4ac599c5708f31e5a692",
       "version_major": 2,
       "version_minor": 0
      },
      "text/plain": [
       "Calculating Metrics:   0%|          | 0/7 [00:00<?, ?it/s]"
      ]
     },
     "metadata": {},
     "output_type": "display_data"
    },
    {
     "data": {
      "application/vnd.jupyter.widget-view+json": {
       "model_id": "49bb5e1c8dd8412980ebd2352a872dd0",
       "version_major": 2,
       "version_minor": 0
      },
      "text/plain": [
       "Calculating Metrics:   0%|          | 0/1 [00:00<?, ?it/s]"
      ]
     },
     "metadata": {},
     "output_type": "display_data"
    },
    {
     "data": {
      "application/vnd.jupyter.widget-view+json": {
       "model_id": "8f9187d4328f450c9f22b30f430495b6",
       "version_major": 2,
       "version_minor": 0
      },
      "text/plain": [
       "Calculating Metrics:   0%|          | 0/4 [00:00<?, ?it/s]"
      ]
     },
     "metadata": {},
     "output_type": "display_data"
    },
    {
     "data": {
      "application/vnd.jupyter.widget-view+json": {
       "model_id": "764865a6f2f54cb4bcf766919cba2d32",
       "version_major": 2,
       "version_minor": 0
      },
      "text/plain": [
       "Calculating Metrics:   0%|          | 0/4 [00:00<?, ?it/s]"
      ]
     },
     "metadata": {},
     "output_type": "display_data"
    },
    {
     "data": {
      "application/vnd.jupyter.widget-view+json": {
       "model_id": "d575da4a2b6b4f15907379d0d692c75e",
       "version_major": 2,
       "version_minor": 0
      },
      "text/plain": [
       "Calculating Metrics:   0%|          | 0/4 [00:00<?, ?it/s]"
      ]
     },
     "metadata": {},
     "output_type": "display_data"
    },
    {
     "data": {
      "application/vnd.jupyter.widget-view+json": {
       "model_id": "cb7fc2170d3e40c79053a5f3244e047a",
       "version_major": 2,
       "version_minor": 0
      },
      "text/plain": [
       "Calculating Metrics:   0%|          | 0/4 [00:00<?, ?it/s]"
      ]
     },
     "metadata": {},
     "output_type": "display_data"
    },
    {
     "data": {
      "application/vnd.jupyter.widget-view+json": {
       "model_id": "882d2d5656af40349142ff3cc89c4cb5",
       "version_major": 2,
       "version_minor": 0
      },
      "text/plain": [
       "Calculating Metrics:   0%|          | 0/4 [00:00<?, ?it/s]"
      ]
     },
     "metadata": {},
     "output_type": "display_data"
    },
    {
     "data": {
      "application/vnd.jupyter.widget-view+json": {
       "model_id": "51d3f01deef144f0a975c74920d94561",
       "version_major": 2,
       "version_minor": 0
      },
      "text/plain": [
       "Calculating Metrics:   0%|          | 0/4 [00:00<?, ?it/s]"
      ]
     },
     "metadata": {},
     "output_type": "display_data"
    },
    {
     "data": {
      "application/vnd.jupyter.widget-view+json": {
       "model_id": "e49b669ef63644ac8c06e726fa248c9d",
       "version_major": 2,
       "version_minor": 0
      },
      "text/plain": [
       "Calculating Metrics:   0%|          | 0/4 [00:00<?, ?it/s]"
      ]
     },
     "metadata": {},
     "output_type": "display_data"
    },
    {
     "data": {
      "application/vnd.jupyter.widget-view+json": {
       "model_id": "179c01b3e30449d090ab74de0d57c7f1",
       "version_major": 2,
       "version_minor": 0
      },
      "text/plain": [
       "Calculating Metrics:   0%|          | 0/4 [00:00<?, ?it/s]"
      ]
     },
     "metadata": {},
     "output_type": "display_data"
    },
    {
     "data": {
      "application/vnd.jupyter.widget-view+json": {
       "model_id": "7b82808a5b0a467b934b6d797e526856",
       "version_major": 2,
       "version_minor": 0
      },
      "text/plain": [
       "Calculating Metrics:   0%|          | 0/4 [00:00<?, ?it/s]"
      ]
     },
     "metadata": {},
     "output_type": "display_data"
    },
    {
     "data": {
      "application/vnd.jupyter.widget-view+json": {
       "model_id": "2715110de2f04bacbf7c8c5796c8d2b5",
       "version_major": 2,
       "version_minor": 0
      },
      "text/plain": [
       "Calculating Metrics:   0%|          | 0/4 [00:00<?, ?it/s]"
      ]
     },
     "metadata": {},
     "output_type": "display_data"
    },
    {
     "data": {
      "application/vnd.jupyter.widget-view+json": {
       "model_id": "02756e0ebfff4238b6bbfd799697c81f",
       "version_major": 2,
       "version_minor": 0
      },
      "text/plain": [
       "Calculating Metrics:   0%|          | 0/6 [00:00<?, ?it/s]"
      ]
     },
     "metadata": {},
     "output_type": "display_data"
    },
    {
     "data": {
      "application/vnd.jupyter.widget-view+json": {
       "model_id": "95dbc5ebccdb4e68a3cb6b066efd6820",
       "version_major": 2,
       "version_minor": 0
      },
      "text/plain": [
       "Calculating Metrics:   0%|          | 0/7 [00:00<?, ?it/s]"
      ]
     },
     "metadata": {},
     "output_type": "display_data"
    },
    {
     "data": {
      "application/vnd.jupyter.widget-view+json": {
       "model_id": "ad421356188641e9adeaa079941da014",
       "version_major": 2,
       "version_minor": 0
      },
      "text/plain": [
       "Calculating Metrics:   0%|          | 0/7 [00:00<?, ?it/s]"
      ]
     },
     "metadata": {},
     "output_type": "display_data"
    },
    {
     "data": {
      "application/vnd.jupyter.widget-view+json": {
       "model_id": "2b69ec78d3034f79983ac0438b7e055d",
       "version_major": 2,
       "version_minor": 0
      },
      "text/plain": [
       "Calculating Metrics:   0%|          | 0/1 [00:00<?, ?it/s]"
      ]
     },
     "metadata": {},
     "output_type": "display_data"
    },
    {
     "name": "stdout",
     "output_type": "stream",
     "text": [
      "Creating an expectation suite with the following expectations:\n",
      "\n",
      "Table-Level Expectations\n",
      "expect_table_columns_to_match_ordered_list\n",
      "expect_table_row_count_to_be_between\n",
      "\n",
      "Expectations by Column\n",
      "Column Name: a | Column Data Type: INT | Cardinality: UNIQUE\n",
      "expect_column_max_to_be_between\n",
      "expect_column_mean_to_be_between\n",
      "expect_column_median_to_be_between\n",
      "expect_column_min_to_be_between\n",
      "expect_column_proportion_of_unique_values_to_be_between\n",
      "expect_column_quantile_values_to_be_between\n",
      "expect_column_values_to_be_in_type_list\n",
      "expect_column_values_to_not_be_null\n",
      "\n",
      "\n",
      "Column Name: b | Column Data Type: INT | Cardinality: UNIQUE\n",
      "expect_column_max_to_be_between\n",
      "expect_column_mean_to_be_between\n",
      "expect_column_median_to_be_between\n",
      "expect_column_min_to_be_between\n",
      "expect_column_proportion_of_unique_values_to_be_between\n",
      "expect_column_quantile_values_to_be_between\n",
      "expect_column_values_to_be_in_type_list\n",
      "expect_column_values_to_not_be_null\n",
      "\n",
      "\n",
      "Column Name: c | Column Data Type: INT | Cardinality: UNIQUE\n",
      "expect_column_max_to_be_between\n",
      "expect_column_mean_to_be_between\n",
      "expect_column_median_to_be_between\n",
      "expect_column_min_to_be_between\n",
      "expect_column_proportion_of_unique_values_to_be_between\n",
      "expect_column_quantile_values_to_be_between\n",
      "expect_column_values_to_be_in_type_list\n",
      "expect_column_values_to_not_be_null\n",
      "\n",
      "\n"
     ]
    },
    {
     "data": {
      "text/plain": [
       "{\n",
       "  \"ge_cloud_id\": null,\n",
       "  \"data_asset_type\": null,\n",
       "  \"expectation_suite_name\": \"test_suite\",\n",
       "  \"meta\": {\n",
       "    \"great_expectations_version\": \"0.14.9\",\n",
       "    \"columns\": {\n",
       "      \"a\": {\n",
       "        \"description\": \"\"\n",
       "      },\n",
       "      \"b\": {\n",
       "        \"description\": \"\"\n",
       "      },\n",
       "      \"c\": {\n",
       "        \"description\": \"\"\n",
       "      }\n",
       "    }\n",
       "  },\n",
       "  \"expectations\": [\n",
       "    {\n",
       "      \"expectation_type\": \"expect_table_columns_to_match_ordered_list\",\n",
       "      \"meta\": {},\n",
       "      \"kwargs\": {\n",
       "        \"column_list\": [\n",
       "          \"a\",\n",
       "          \"b\",\n",
       "          \"c\"\n",
       "        ]\n",
       "      }\n",
       "    },\n",
       "    {\n",
       "      \"expectation_type\": \"expect_table_row_count_to_be_between\",\n",
       "      \"meta\": {},\n",
       "      \"kwargs\": {\n",
       "        \"min_value\": 3,\n",
       "        \"max_value\": 3\n",
       "      }\n",
       "    },\n",
       "    {\n",
       "      \"expectation_type\": \"expect_column_min_to_be_between\",\n",
       "      \"meta\": {},\n",
       "      \"kwargs\": {\n",
       "        \"min_value\": 1,\n",
       "        \"max_value\": 1,\n",
       "        \"column\": \"a\"\n",
       "      }\n",
       "    },\n",
       "    {\n",
       "      \"expectation_type\": \"expect_column_max_to_be_between\",\n",
       "      \"meta\": {},\n",
       "      \"kwargs\": {\n",
       "        \"min_value\": 7,\n",
       "        \"max_value\": 7,\n",
       "        \"column\": \"a\"\n",
       "      }\n",
       "    },\n",
       "    {\n",
       "      \"expectation_type\": \"expect_column_mean_to_be_between\",\n",
       "      \"meta\": {},\n",
       "      \"kwargs\": {\n",
       "        \"min_value\": 4.0,\n",
       "        \"max_value\": 4.0,\n",
       "        \"column\": \"a\"\n",
       "      }\n",
       "    },\n",
       "    {\n",
       "      \"expectation_type\": \"expect_column_median_to_be_between\",\n",
       "      \"meta\": {},\n",
       "      \"kwargs\": {\n",
       "        \"min_value\": 4.0,\n",
       "        \"max_value\": 4.0,\n",
       "        \"column\": \"a\"\n",
       "      }\n",
       "    },\n",
       "    {\n",
       "      \"expectation_type\": \"expect_column_quantile_values_to_be_between\",\n",
       "      \"meta\": {},\n",
       "      \"kwargs\": {\n",
       "        \"quantile_ranges\": {\n",
       "          \"quantiles\": [\n",
       "            0.05,\n",
       "            0.25,\n",
       "            0.5,\n",
       "            0.75,\n",
       "            0.95\n",
       "          ],\n",
       "          \"value_ranges\": [\n",
       "            [\n",
       "              1,\n",
       "              1\n",
       "            ],\n",
       "            [\n",
       "              1,\n",
       "              1\n",
       "            ],\n",
       "            [\n",
       "              4,\n",
       "              4\n",
       "            ],\n",
       "            [\n",
       "              4,\n",
       "              4\n",
       "            ],\n",
       "            [\n",
       "              4,\n",
       "              4\n",
       "            ]\n",
       "          ]\n",
       "        },\n",
       "        \"allow_relative_error\": \"lower\",\n",
       "        \"column\": \"a\"\n",
       "      }\n",
       "    },\n",
       "    {\n",
       "      \"expectation_type\": \"expect_column_values_to_not_be_null\",\n",
       "      \"meta\": {},\n",
       "      \"kwargs\": {\n",
       "        \"column\": \"a\"\n",
       "      }\n",
       "    },\n",
       "    {\n",
       "      \"expectation_type\": \"expect_column_proportion_of_unique_values_to_be_between\",\n",
       "      \"meta\": {},\n",
       "      \"kwargs\": {\n",
       "        \"min_value\": 1.0,\n",
       "        \"max_value\": 1.0,\n",
       "        \"column\": \"a\"\n",
       "      }\n",
       "    },\n",
       "    {\n",
       "      \"expectation_type\": \"expect_column_values_to_be_in_type_list\",\n",
       "      \"meta\": {},\n",
       "      \"kwargs\": {\n",
       "        \"type_list\": [\n",
       "          \"INTEGER\",\n",
       "          \"integer\",\n",
       "          \"int\",\n",
       "          \"int_\",\n",
       "          \"int8\",\n",
       "          \"int16\",\n",
       "          \"int32\",\n",
       "          \"int64\",\n",
       "          \"uint8\",\n",
       "          \"uint16\",\n",
       "          \"uint32\",\n",
       "          \"uint64\",\n",
       "          \"Int8Dtype\",\n",
       "          \"Int16Dtype\",\n",
       "          \"Int32Dtype\",\n",
       "          \"Int64Dtype\",\n",
       "          \"UInt8Dtype\",\n",
       "          \"UInt16Dtype\",\n",
       "          \"UInt32Dtype\",\n",
       "          \"UInt64Dtype\",\n",
       "          \"INT\",\n",
       "          \"INTEGER\",\n",
       "          \"INT64\",\n",
       "          \"TINYINT\",\n",
       "          \"BYTEINT\",\n",
       "          \"SMALLINT\",\n",
       "          \"BIGINT\",\n",
       "          \"IntegerType\",\n",
       "          \"LongType\"\n",
       "        ],\n",
       "        \"column\": \"a\"\n",
       "      }\n",
       "    },\n",
       "    {\n",
       "      \"expectation_type\": \"expect_column_min_to_be_between\",\n",
       "      \"meta\": {},\n",
       "      \"kwargs\": {\n",
       "        \"min_value\": 2,\n",
       "        \"max_value\": 2,\n",
       "        \"column\": \"b\"\n",
       "      }\n",
       "    },\n",
       "    {\n",
       "      \"expectation_type\": \"expect_column_max_to_be_between\",\n",
       "      \"meta\": {},\n",
       "      \"kwargs\": {\n",
       "        \"min_value\": 8,\n",
       "        \"max_value\": 8,\n",
       "        \"column\": \"b\"\n",
       "      }\n",
       "    },\n",
       "    {\n",
       "      \"expectation_type\": \"expect_column_mean_to_be_between\",\n",
       "      \"meta\": {},\n",
       "      \"kwargs\": {\n",
       "        \"min_value\": 5.0,\n",
       "        \"max_value\": 5.0,\n",
       "        \"column\": \"b\"\n",
       "      }\n",
       "    },\n",
       "    {\n",
       "      \"expectation_type\": \"expect_column_median_to_be_between\",\n",
       "      \"meta\": {},\n",
       "      \"kwargs\": {\n",
       "        \"min_value\": 5.0,\n",
       "        \"max_value\": 5.0,\n",
       "        \"column\": \"b\"\n",
       "      }\n",
       "    },\n",
       "    {\n",
       "      \"expectation_type\": \"expect_column_quantile_values_to_be_between\",\n",
       "      \"meta\": {},\n",
       "      \"kwargs\": {\n",
       "        \"quantile_ranges\": {\n",
       "          \"quantiles\": [\n",
       "            0.05,\n",
       "            0.25,\n",
       "            0.5,\n",
       "            0.75,\n",
       "            0.95\n",
       "          ],\n",
       "          \"value_ranges\": [\n",
       "            [\n",
       "              2,\n",
       "              2\n",
       "            ],\n",
       "            [\n",
       "              2,\n",
       "              2\n",
       "            ],\n",
       "            [\n",
       "              5,\n",
       "              5\n",
       "            ],\n",
       "            [\n",
       "              5,\n",
       "              5\n",
       "            ],\n",
       "            [\n",
       "              5,\n",
       "              5\n",
       "            ]\n",
       "          ]\n",
       "        },\n",
       "        \"allow_relative_error\": \"lower\",\n",
       "        \"column\": \"b\"\n",
       "      }\n",
       "    },\n",
       "    {\n",
       "      \"expectation_type\": \"expect_column_values_to_not_be_null\",\n",
       "      \"meta\": {},\n",
       "      \"kwargs\": {\n",
       "        \"column\": \"b\"\n",
       "      }\n",
       "    },\n",
       "    {\n",
       "      \"expectation_type\": \"expect_column_proportion_of_unique_values_to_be_between\",\n",
       "      \"meta\": {},\n",
       "      \"kwargs\": {\n",
       "        \"min_value\": 1.0,\n",
       "        \"max_value\": 1.0,\n",
       "        \"column\": \"b\"\n",
       "      }\n",
       "    },\n",
       "    {\n",
       "      \"expectation_type\": \"expect_column_values_to_be_in_type_list\",\n",
       "      \"meta\": {},\n",
       "      \"kwargs\": {\n",
       "        \"type_list\": [\n",
       "          \"INTEGER\",\n",
       "          \"integer\",\n",
       "          \"int\",\n",
       "          \"int_\",\n",
       "          \"int8\",\n",
       "          \"int16\",\n",
       "          \"int32\",\n",
       "          \"int64\",\n",
       "          \"uint8\",\n",
       "          \"uint16\",\n",
       "          \"uint32\",\n",
       "          \"uint64\",\n",
       "          \"Int8Dtype\",\n",
       "          \"Int16Dtype\",\n",
       "          \"Int32Dtype\",\n",
       "          \"Int64Dtype\",\n",
       "          \"UInt8Dtype\",\n",
       "          \"UInt16Dtype\",\n",
       "          \"UInt32Dtype\",\n",
       "          \"UInt64Dtype\",\n",
       "          \"INT\",\n",
       "          \"INTEGER\",\n",
       "          \"INT64\",\n",
       "          \"TINYINT\",\n",
       "          \"BYTEINT\",\n",
       "          \"SMALLINT\",\n",
       "          \"BIGINT\",\n",
       "          \"IntegerType\",\n",
       "          \"LongType\"\n",
       "        ],\n",
       "        \"column\": \"b\"\n",
       "      }\n",
       "    },\n",
       "    {\n",
       "      \"expectation_type\": \"expect_column_min_to_be_between\",\n",
       "      \"meta\": {},\n",
       "      \"kwargs\": {\n",
       "        \"min_value\": 3,\n",
       "        \"max_value\": 3,\n",
       "        \"column\": \"c\"\n",
       "      }\n",
       "    },\n",
       "    {\n",
       "      \"expectation_type\": \"expect_column_max_to_be_between\",\n",
       "      \"meta\": {},\n",
       "      \"kwargs\": {\n",
       "        \"min_value\": 9,\n",
       "        \"max_value\": 9,\n",
       "        \"column\": \"c\"\n",
       "      }\n",
       "    },\n",
       "    {\n",
       "      \"expectation_type\": \"expect_column_mean_to_be_between\",\n",
       "      \"meta\": {},\n",
       "      \"kwargs\": {\n",
       "        \"min_value\": 6.0,\n",
       "        \"max_value\": 6.0,\n",
       "        \"column\": \"c\"\n",
       "      }\n",
       "    },\n",
       "    {\n",
       "      \"expectation_type\": \"expect_column_median_to_be_between\",\n",
       "      \"meta\": {},\n",
       "      \"kwargs\": {\n",
       "        \"min_value\": 6.0,\n",
       "        \"max_value\": 6.0,\n",
       "        \"column\": \"c\"\n",
       "      }\n",
       "    },\n",
       "    {\n",
       "      \"expectation_type\": \"expect_column_quantile_values_to_be_between\",\n",
       "      \"meta\": {},\n",
       "      \"kwargs\": {\n",
       "        \"quantile_ranges\": {\n",
       "          \"quantiles\": [\n",
       "            0.05,\n",
       "            0.25,\n",
       "            0.5,\n",
       "            0.75,\n",
       "            0.95\n",
       "          ],\n",
       "          \"value_ranges\": [\n",
       "            [\n",
       "              3,\n",
       "              3\n",
       "            ],\n",
       "            [\n",
       "              3,\n",
       "              3\n",
       "            ],\n",
       "            [\n",
       "              6,\n",
       "              6\n",
       "            ],\n",
       "            [\n",
       "              6,\n",
       "              6\n",
       "            ],\n",
       "            [\n",
       "              6,\n",
       "              6\n",
       "            ]\n",
       "          ]\n",
       "        },\n",
       "        \"allow_relative_error\": \"lower\",\n",
       "        \"column\": \"c\"\n",
       "      }\n",
       "    },\n",
       "    {\n",
       "      \"expectation_type\": \"expect_column_values_to_not_be_null\",\n",
       "      \"meta\": {},\n",
       "      \"kwargs\": {\n",
       "        \"column\": \"c\"\n",
       "      }\n",
       "    },\n",
       "    {\n",
       "      \"expectation_type\": \"expect_column_proportion_of_unique_values_to_be_between\",\n",
       "      \"meta\": {},\n",
       "      \"kwargs\": {\n",
       "        \"min_value\": 1.0,\n",
       "        \"max_value\": 1.0,\n",
       "        \"column\": \"c\"\n",
       "      }\n",
       "    },\n",
       "    {\n",
       "      \"expectation_type\": \"expect_column_values_to_be_in_type_list\",\n",
       "      \"meta\": {},\n",
       "      \"kwargs\": {\n",
       "        \"type_list\": [\n",
       "          \"INTEGER\",\n",
       "          \"integer\",\n",
       "          \"int\",\n",
       "          \"int_\",\n",
       "          \"int8\",\n",
       "          \"int16\",\n",
       "          \"int32\",\n",
       "          \"int64\",\n",
       "          \"uint8\",\n",
       "          \"uint16\",\n",
       "          \"uint32\",\n",
       "          \"uint64\",\n",
       "          \"Int8Dtype\",\n",
       "          \"Int16Dtype\",\n",
       "          \"Int32Dtype\",\n",
       "          \"Int64Dtype\",\n",
       "          \"UInt8Dtype\",\n",
       "          \"UInt16Dtype\",\n",
       "          \"UInt32Dtype\",\n",
       "          \"UInt64Dtype\",\n",
       "          \"INT\",\n",
       "          \"INTEGER\",\n",
       "          \"INT64\",\n",
       "          \"TINYINT\",\n",
       "          \"BYTEINT\",\n",
       "          \"SMALLINT\",\n",
       "          \"BIGINT\",\n",
       "          \"IntegerType\",\n",
       "          \"LongType\"\n",
       "        ],\n",
       "        \"column\": \"c\"\n",
       "      }\n",
       "    }\n",
       "  ]\n",
       "}"
      ]
     },
     "execution_count": 14,
     "metadata": {},
     "output_type": "execute_result"
    }
   ],
   "source": [
    "\n",
    "profiler = UserConfigurableProfiler(\n",
    "                    profile_dataset=validator,\n",
    "                    excluded_expectations=None,\n",
    "                    \n",
    "                    not_null_only=False,\n",
    "                    primary_or_compound_key=False,\n",
    "                    semantic_types_dict=None,\n",
    "                    table_expectations_only=False,\n",
    "                    value_set_threshold=\"MANY\",\n",
    "                )\n",
    "suite =profiler.build_suite()\n",
    "suite"
   ]
  },
  {
   "cell_type": "code",
   "execution_count": 16,
   "id": "40e8ebb2",
   "metadata": {},
   "outputs": [
    {
     "data": {
      "text/plain": [
       "{'ge_cloud_id': None,\n",
       " 'data_asset_type': None,\n",
       " 'expectation_suite_name': 'test_suite',\n",
       " 'meta': {'great_expectations_version': '0.14.9',\n",
       "  'columns': {'a': {'description': ''},\n",
       "   'b': {'description': ''},\n",
       "   'c': {'description': ''}}},\n",
       " 'expectations': [{'expectation_type': 'expect_table_columns_to_match_ordered_list',\n",
       "   'meta': {},\n",
       "   'kwargs': {'column_list': ['a', 'b', 'c']}},\n",
       "  {'expectation_type': 'expect_table_row_count_to_be_between',\n",
       "   'meta': {},\n",
       "   'kwargs': {'min_value': 3, 'max_value': 3}},\n",
       "  {'expectation_type': 'expect_column_min_to_be_between',\n",
       "   'meta': {},\n",
       "   'kwargs': {'min_value': 1, 'max_value': 1, 'column': 'a'}},\n",
       "  {'expectation_type': 'expect_column_max_to_be_between',\n",
       "   'meta': {},\n",
       "   'kwargs': {'min_value': 7, 'max_value': 7, 'column': 'a'}},\n",
       "  {'expectation_type': 'expect_column_mean_to_be_between',\n",
       "   'meta': {},\n",
       "   'kwargs': {'min_value': 4.0, 'max_value': 4.0, 'column': 'a'}},\n",
       "  {'expectation_type': 'expect_column_median_to_be_between',\n",
       "   'meta': {},\n",
       "   'kwargs': {'min_value': 4.0, 'max_value': 4.0, 'column': 'a'}},\n",
       "  {'expectation_type': 'expect_column_quantile_values_to_be_between',\n",
       "   'meta': {},\n",
       "   'kwargs': {'quantile_ranges': {'quantiles': [0.05, 0.25, 0.5, 0.75, 0.95],\n",
       "     'value_ranges': [[1, 1], [1, 1], [4, 4], [4, 4], [4, 4]]},\n",
       "    'allow_relative_error': 'lower',\n",
       "    'column': 'a'}},\n",
       "  {'expectation_type': 'expect_column_values_to_not_be_null',\n",
       "   'meta': {},\n",
       "   'kwargs': {'column': 'a'}},\n",
       "  {'expectation_type': 'expect_column_proportion_of_unique_values_to_be_between',\n",
       "   'meta': {},\n",
       "   'kwargs': {'min_value': 1.0, 'max_value': 1.0, 'column': 'a'}},\n",
       "  {'expectation_type': 'expect_column_values_to_be_in_type_list',\n",
       "   'meta': {},\n",
       "   'kwargs': {'type_list': ['INTEGER',\n",
       "     'integer',\n",
       "     'int',\n",
       "     'int_',\n",
       "     'int8',\n",
       "     'int16',\n",
       "     'int32',\n",
       "     'int64',\n",
       "     'uint8',\n",
       "     'uint16',\n",
       "     'uint32',\n",
       "     'uint64',\n",
       "     'Int8Dtype',\n",
       "     'Int16Dtype',\n",
       "     'Int32Dtype',\n",
       "     'Int64Dtype',\n",
       "     'UInt8Dtype',\n",
       "     'UInt16Dtype',\n",
       "     'UInt32Dtype',\n",
       "     'UInt64Dtype',\n",
       "     'INT',\n",
       "     'INTEGER',\n",
       "     'INT64',\n",
       "     'TINYINT',\n",
       "     'BYTEINT',\n",
       "     'SMALLINT',\n",
       "     'BIGINT',\n",
       "     'IntegerType',\n",
       "     'LongType'],\n",
       "    'column': 'a'}},\n",
       "  {'expectation_type': 'expect_column_min_to_be_between',\n",
       "   'meta': {},\n",
       "   'kwargs': {'min_value': 2, 'max_value': 2, 'column': 'b'}},\n",
       "  {'expectation_type': 'expect_column_max_to_be_between',\n",
       "   'meta': {},\n",
       "   'kwargs': {'min_value': 8, 'max_value': 8, 'column': 'b'}},\n",
       "  {'expectation_type': 'expect_column_mean_to_be_between',\n",
       "   'meta': {},\n",
       "   'kwargs': {'min_value': 5.0, 'max_value': 5.0, 'column': 'b'}},\n",
       "  {'expectation_type': 'expect_column_median_to_be_between',\n",
       "   'meta': {},\n",
       "   'kwargs': {'min_value': 5.0, 'max_value': 5.0, 'column': 'b'}},\n",
       "  {'expectation_type': 'expect_column_quantile_values_to_be_between',\n",
       "   'meta': {},\n",
       "   'kwargs': {'quantile_ranges': {'quantiles': [0.05, 0.25, 0.5, 0.75, 0.95],\n",
       "     'value_ranges': [[2, 2], [2, 2], [5, 5], [5, 5], [5, 5]]},\n",
       "    'allow_relative_error': 'lower',\n",
       "    'column': 'b'}},\n",
       "  {'expectation_type': 'expect_column_values_to_not_be_null',\n",
       "   'meta': {},\n",
       "   'kwargs': {'column': 'b'}},\n",
       "  {'expectation_type': 'expect_column_proportion_of_unique_values_to_be_between',\n",
       "   'meta': {},\n",
       "   'kwargs': {'min_value': 1.0, 'max_value': 1.0, 'column': 'b'}},\n",
       "  {'expectation_type': 'expect_column_values_to_be_in_type_list',\n",
       "   'meta': {},\n",
       "   'kwargs': {'type_list': ['INTEGER',\n",
       "     'integer',\n",
       "     'int',\n",
       "     'int_',\n",
       "     'int8',\n",
       "     'int16',\n",
       "     'int32',\n",
       "     'int64',\n",
       "     'uint8',\n",
       "     'uint16',\n",
       "     'uint32',\n",
       "     'uint64',\n",
       "     'Int8Dtype',\n",
       "     'Int16Dtype',\n",
       "     'Int32Dtype',\n",
       "     'Int64Dtype',\n",
       "     'UInt8Dtype',\n",
       "     'UInt16Dtype',\n",
       "     'UInt32Dtype',\n",
       "     'UInt64Dtype',\n",
       "     'INT',\n",
       "     'INTEGER',\n",
       "     'INT64',\n",
       "     'TINYINT',\n",
       "     'BYTEINT',\n",
       "     'SMALLINT',\n",
       "     'BIGINT',\n",
       "     'IntegerType',\n",
       "     'LongType'],\n",
       "    'column': 'b'}},\n",
       "  {'expectation_type': 'expect_column_min_to_be_between',\n",
       "   'meta': {},\n",
       "   'kwargs': {'min_value': 3, 'max_value': 3, 'column': 'c'}},\n",
       "  {'expectation_type': 'expect_column_max_to_be_between',\n",
       "   'meta': {},\n",
       "   'kwargs': {'min_value': 9, 'max_value': 9, 'column': 'c'}},\n",
       "  {'expectation_type': 'expect_column_mean_to_be_between',\n",
       "   'meta': {},\n",
       "   'kwargs': {'min_value': 6.0, 'max_value': 6.0, 'column': 'c'}},\n",
       "  {'expectation_type': 'expect_column_median_to_be_between',\n",
       "   'meta': {},\n",
       "   'kwargs': {'min_value': 6.0, 'max_value': 6.0, 'column': 'c'}},\n",
       "  {'expectation_type': 'expect_column_quantile_values_to_be_between',\n",
       "   'meta': {},\n",
       "   'kwargs': {'quantile_ranges': {'quantiles': [0.05, 0.25, 0.5, 0.75, 0.95],\n",
       "     'value_ranges': [[3, 3], [3, 3], [6, 6], [6, 6], [6, 6]]},\n",
       "    'allow_relative_error': 'lower',\n",
       "    'column': 'c'}},\n",
       "  {'expectation_type': 'expect_column_values_to_not_be_null',\n",
       "   'meta': {},\n",
       "   'kwargs': {'column': 'c'}},\n",
       "  {'expectation_type': 'expect_column_proportion_of_unique_values_to_be_between',\n",
       "   'meta': {},\n",
       "   'kwargs': {'min_value': 1.0, 'max_value': 1.0, 'column': 'c'}},\n",
       "  {'expectation_type': 'expect_column_values_to_be_in_type_list',\n",
       "   'meta': {},\n",
       "   'kwargs': {'type_list': ['INTEGER',\n",
       "     'integer',\n",
       "     'int',\n",
       "     'int_',\n",
       "     'int8',\n",
       "     'int16',\n",
       "     'int32',\n",
       "     'int64',\n",
       "     'uint8',\n",
       "     'uint16',\n",
       "     'uint32',\n",
       "     'uint64',\n",
       "     'Int8Dtype',\n",
       "     'Int16Dtype',\n",
       "     'Int32Dtype',\n",
       "     'Int64Dtype',\n",
       "     'UInt8Dtype',\n",
       "     'UInt16Dtype',\n",
       "     'UInt32Dtype',\n",
       "     'UInt64Dtype',\n",
       "     'INT',\n",
       "     'INTEGER',\n",
       "     'INT64',\n",
       "     'TINYINT',\n",
       "     'BYTEINT',\n",
       "     'SMALLINT',\n",
       "     'BIGINT',\n",
       "     'IntegerType',\n",
       "     'LongType'],\n",
       "    'column': 'c'}}]}"
      ]
     },
     "execution_count": 16,
     "metadata": {},
     "output_type": "execute_result"
    }
   ],
   "source": [
    "dict_val = suite.to_json_dict()\n",
    "dict_val"
   ]
  },
  {
   "cell_type": "code",
   "execution_count": 17,
   "id": "f150d39a",
   "metadata": {},
   "outputs": [
    {
     "data": {
      "text/plain": [
       "[{\"expectation_type\": \"expect_column_min_to_be_between\", \"meta\": {}, \"kwargs\": {\"min_value\": 1, \"max_value\": 1, \"column\": \"a\"}},\n",
       " {\"expectation_type\": \"expect_column_max_to_be_between\", \"meta\": {}, \"kwargs\": {\"min_value\": 7, \"max_value\": 7, \"column\": \"a\"}},\n",
       " {\"expectation_type\": \"expect_column_mean_to_be_between\", \"meta\": {}, \"kwargs\": {\"min_value\": 4.0, \"max_value\": 4.0, \"column\": \"a\"}},\n",
       " {\"expectation_type\": \"expect_column_median_to_be_between\", \"meta\": {}, \"kwargs\": {\"min_value\": 4.0, \"max_value\": 4.0, \"column\": \"a\"}},\n",
       " {\"expectation_type\": \"expect_column_quantile_values_to_be_between\", \"meta\": {}, \"kwargs\": {\"quantile_ranges\": {\"quantiles\": [0.05, 0.25, 0.5, 0.75, 0.95], \"value_ranges\": [[1, 1], [1, 1], [4, 4], [4, 4], [4, 4]]}, \"allow_relative_error\": \"lower\", \"column\": \"a\"}},\n",
       " {\"expectation_type\": \"expect_column_values_to_not_be_null\", \"meta\": {}, \"kwargs\": {\"column\": \"a\"}},\n",
       " {\"expectation_type\": \"expect_column_proportion_of_unique_values_to_be_between\", \"meta\": {}, \"kwargs\": {\"min_value\": 1.0, \"max_value\": 1.0, \"column\": \"a\"}},\n",
       " {\"expectation_type\": \"expect_column_values_to_be_in_type_list\", \"meta\": {}, \"kwargs\": {\"type_list\": [\"INTEGER\", \"integer\", \"int\", \"int_\", \"int8\", \"int16\", \"int32\", \"int64\", \"uint8\", \"uint16\", \"uint32\", \"uint64\", \"Int8Dtype\", \"Int16Dtype\", \"Int32Dtype\", \"Int64Dtype\", \"UInt8Dtype\", \"UInt16Dtype\", \"UInt32Dtype\", \"UInt64Dtype\", \"INT\", \"INTEGER\", \"INT64\", \"TINYINT\", \"BYTEINT\", \"SMALLINT\", \"BIGINT\", \"IntegerType\", \"LongType\"], \"column\": \"a\"}},\n",
       " {\"expectation_type\": \"expect_column_min_to_be_between\", \"meta\": {}, \"kwargs\": {\"min_value\": 2, \"max_value\": 2, \"column\": \"b\"}},\n",
       " {\"expectation_type\": \"expect_column_max_to_be_between\", \"meta\": {}, \"kwargs\": {\"min_value\": 8, \"max_value\": 8, \"column\": \"b\"}},\n",
       " {\"expectation_type\": \"expect_column_mean_to_be_between\", \"meta\": {}, \"kwargs\": {\"min_value\": 5.0, \"max_value\": 5.0, \"column\": \"b\"}},\n",
       " {\"expectation_type\": \"expect_column_median_to_be_between\", \"meta\": {}, \"kwargs\": {\"min_value\": 5.0, \"max_value\": 5.0, \"column\": \"b\"}},\n",
       " {\"expectation_type\": \"expect_column_quantile_values_to_be_between\", \"meta\": {}, \"kwargs\": {\"quantile_ranges\": {\"quantiles\": [0.05, 0.25, 0.5, 0.75, 0.95], \"value_ranges\": [[2, 2], [2, 2], [5, 5], [5, 5], [5, 5]]}, \"allow_relative_error\": \"lower\", \"column\": \"b\"}},\n",
       " {\"expectation_type\": \"expect_column_values_to_not_be_null\", \"meta\": {}, \"kwargs\": {\"column\": \"b\"}},\n",
       " {\"expectation_type\": \"expect_column_proportion_of_unique_values_to_be_between\", \"meta\": {}, \"kwargs\": {\"min_value\": 1.0, \"max_value\": 1.0, \"column\": \"b\"}},\n",
       " {\"expectation_type\": \"expect_column_values_to_be_in_type_list\", \"meta\": {}, \"kwargs\": {\"type_list\": [\"INTEGER\", \"integer\", \"int\", \"int_\", \"int8\", \"int16\", \"int32\", \"int64\", \"uint8\", \"uint16\", \"uint32\", \"uint64\", \"Int8Dtype\", \"Int16Dtype\", \"Int32Dtype\", \"Int64Dtype\", \"UInt8Dtype\", \"UInt16Dtype\", \"UInt32Dtype\", \"UInt64Dtype\", \"INT\", \"INTEGER\", \"INT64\", \"TINYINT\", \"BYTEINT\", \"SMALLINT\", \"BIGINT\", \"IntegerType\", \"LongType\"], \"column\": \"b\"}},\n",
       " {\"expectation_type\": \"expect_column_min_to_be_between\", \"meta\": {}, \"kwargs\": {\"min_value\": 3, \"max_value\": 3, \"column\": \"c\"}},\n",
       " {\"expectation_type\": \"expect_column_max_to_be_between\", \"meta\": {}, \"kwargs\": {\"min_value\": 9, \"max_value\": 9, \"column\": \"c\"}},\n",
       " {\"expectation_type\": \"expect_column_mean_to_be_between\", \"meta\": {}, \"kwargs\": {\"min_value\": 6.0, \"max_value\": 6.0, \"column\": \"c\"}},\n",
       " {\"expectation_type\": \"expect_column_median_to_be_between\", \"meta\": {}, \"kwargs\": {\"min_value\": 6.0, \"max_value\": 6.0, \"column\": \"c\"}},\n",
       " {\"expectation_type\": \"expect_column_quantile_values_to_be_between\", \"meta\": {}, \"kwargs\": {\"quantile_ranges\": {\"quantiles\": [0.05, 0.25, 0.5, 0.75, 0.95], \"value_ranges\": [[3, 3], [3, 3], [6, 6], [6, 6], [6, 6]]}, \"allow_relative_error\": \"lower\", \"column\": \"c\"}},\n",
       " {\"expectation_type\": \"expect_column_values_to_not_be_null\", \"meta\": {}, \"kwargs\": {\"column\": \"c\"}},\n",
       " {\"expectation_type\": \"expect_column_proportion_of_unique_values_to_be_between\", \"meta\": {}, \"kwargs\": {\"min_value\": 1.0, \"max_value\": 1.0, \"column\": \"c\"}},\n",
       " {\"expectation_type\": \"expect_column_values_to_be_in_type_list\", \"meta\": {}, \"kwargs\": {\"type_list\": [\"INTEGER\", \"integer\", \"int\", \"int_\", \"int8\", \"int16\", \"int32\", \"int64\", \"uint8\", \"uint16\", \"uint32\", \"uint64\", \"Int8Dtype\", \"Int16Dtype\", \"Int32Dtype\", \"Int64Dtype\", \"UInt8Dtype\", \"UInt16Dtype\", \"UInt32Dtype\", \"UInt64Dtype\", \"INT\", \"INTEGER\", \"INT64\", \"TINYINT\", \"BYTEINT\", \"SMALLINT\", \"BIGINT\", \"IntegerType\", \"LongType\"], \"column\": \"c\"}}]"
      ]
     },
     "execution_count": 17,
     "metadata": {},
     "output_type": "execute_result"
    }
   ],
   "source": [
    "suite.get_column_expectations()"
   ]
  },
  {
   "cell_type": "code",
   "execution_count": 18,
   "id": "1cd31ac9",
   "metadata": {},
   "outputs": [
    {
     "data": {
      "text/plain": [
       "[{\"expectation_type\": \"expect_table_columns_to_match_ordered_list\", \"meta\": {}, \"kwargs\": {\"column_list\": [\"a\", \"b\", \"c\"]}},\n",
       " {\"expectation_type\": \"expect_table_row_count_to_be_between\", \"meta\": {}, \"kwargs\": {\"min_value\": 3, \"max_value\": 3}}]"
      ]
     },
     "execution_count": 18,
     "metadata": {},
     "output_type": "execute_result"
    }
   ],
   "source": [
    "suite.get_table_expectations()"
   ]
  },
  {
   "cell_type": "code",
   "execution_count": 19,
   "id": "89b5b182",
   "metadata": {},
   "outputs": [
    {
     "data": {
      "text/plain": [
       "\"['expect_table_columns_to_match_ordered_list', 'expect_table_row_count_to_be_between']\""
      ]
     },
     "execution_count": 19,
     "metadata": {},
     "output_type": "execute_result"
    }
   ],
   "source": [
    "table_expectations = str(\n",
    "                        [\n",
    "                            suite.get_table_expectations()[i][\"expectation_type\"]\n",
    "                            for i in range(len(suite.get_table_expectations()))\n",
    "                        ]\n",
    "                    )\n",
    "table_expectations"
   ]
  },
  {
   "cell_type": "code",
   "execution_count": 20,
   "id": "16f3579d",
   "metadata": {},
   "outputs": [
    {
     "data": {
      "text/plain": [
       "\"['expect_column_min_to_be_between', 'expect_column_max_to_be_between', 'expect_column_mean_to_be_between', 'expect_column_median_to_be_between', 'expect_column_quantile_values_to_be_between', 'expect_column_values_to_not_be_null', 'expect_column_proportion_of_unique_values_to_be_between', 'expect_column_values_to_be_in_type_list', 'expect_column_min_to_be_between', 'expect_column_max_to_be_between', 'expect_column_mean_to_be_between', 'expect_column_median_to_be_between', 'expect_column_quantile_values_to_be_between', 'expect_column_values_to_not_be_null', 'expect_column_proportion_of_unique_values_to_be_between', 'expect_column_values_to_be_in_type_list', 'expect_column_min_to_be_between', 'expect_column_max_to_be_between', 'expect_column_mean_to_be_between', 'expect_column_median_to_be_between', 'expect_column_quantile_values_to_be_between', 'expect_column_values_to_not_be_null', 'expect_column_proportion_of_unique_values_to_be_between', 'expect_column_values_to_be_in_type_list']\""
      ]
     },
     "execution_count": 20,
     "metadata": {},
     "output_type": "execute_result"
    }
   ],
   "source": [
    "column_expectations = str(\n",
    "                        [\n",
    "                            suite.get_column_expectations()[i][\"expectation_type\"]\n",
    "                            for i in range(len(suite.get_column_expectations()))\n",
    "                        ]\n",
    "                    )\n",
    "column_expectations"
   ]
  },
  {
   "cell_type": "code",
   "execution_count": 21,
   "id": "1162bcc8",
   "metadata": {},
   "outputs": [
    {
     "data": {
      "text/plain": [
       "[['expect_table_columns_to_match_ordered_list',\n",
       "  'expect_table_row_count_to_be_between']]"
      ]
     },
     "execution_count": 21,
     "metadata": {},
     "output_type": "execute_result"
    }
   ],
   "source": [
    "no_of_table_expectations = []\n",
    "no_of_table_expectations.append(\n",
    "                        [\n",
    "                            suite.get_table_expectations()[i][\"expectation_type\"]\n",
    "                            for i in range(len(suite.get_table_expectations()))\n",
    "                        ]\n",
    "                    )\n",
    "\n",
    "no_of_table_expectations\n"
   ]
  },
  {
   "cell_type": "code",
   "execution_count": 22,
   "id": "cee8866f",
   "metadata": {
    "scrolled": true
   },
   "outputs": [
    {
     "data": {
      "text/plain": [
       "[['expect_column_min_to_be_between',\n",
       "  'expect_column_max_to_be_between',\n",
       "  'expect_column_mean_to_be_between',\n",
       "  'expect_column_median_to_be_between',\n",
       "  'expect_column_quantile_values_to_be_between',\n",
       "  'expect_column_values_to_not_be_null',\n",
       "  'expect_column_proportion_of_unique_values_to_be_between',\n",
       "  'expect_column_values_to_be_in_type_list',\n",
       "  'expect_column_min_to_be_between',\n",
       "  'expect_column_max_to_be_between',\n",
       "  'expect_column_mean_to_be_between',\n",
       "  'expect_column_median_to_be_between',\n",
       "  'expect_column_quantile_values_to_be_between',\n",
       "  'expect_column_values_to_not_be_null',\n",
       "  'expect_column_proportion_of_unique_values_to_be_between',\n",
       "  'expect_column_values_to_be_in_type_list',\n",
       "  'expect_column_min_to_be_between',\n",
       "  'expect_column_max_to_be_between',\n",
       "  'expect_column_mean_to_be_between',\n",
       "  'expect_column_median_to_be_between',\n",
       "  'expect_column_quantile_values_to_be_between',\n",
       "  'expect_column_values_to_not_be_null',\n",
       "  'expect_column_proportion_of_unique_values_to_be_between',\n",
       "  'expect_column_values_to_be_in_type_list']]"
      ]
     },
     "execution_count": 22,
     "metadata": {},
     "output_type": "execute_result"
    }
   ],
   "source": [
    "no_of_column_expectations = []\n",
    "no_of_column_expectations.append(\n",
    "    [\n",
    "        suite.get_column_expectations()[i][\"expectation_type\"]\n",
    "        for i in range(len(suite.get_column_expectations()))\n",
    "    ]\n",
    ")\n",
    "no_of_column_expectations"
   ]
  },
  {
   "cell_type": "code",
   "execution_count": 42,
   "id": "976c3ab3",
   "metadata": {},
   "outputs": [
    {
     "data": {
      "text/plain": [
       "{'result': {'expectation_suite_name': 'test_suite',\n",
       "  'data_asset_type': None,\n",
       "  'expectations': [{'kwargs': {'column_list': ['a', 'b', 'c']},\n",
       "    'expectation_type': 'expect_table_columns_to_match_ordered_list',\n",
       "    'meta': {}},\n",
       "   {'kwargs': {'min_value': 3, 'max_value': 3},\n",
       "    'expectation_type': 'expect_table_row_count_to_be_between',\n",
       "    'meta': {}},\n",
       "   {'kwargs': {'min_value': 1, 'max_value': 1, 'column': 'a'},\n",
       "    'expectation_type': 'expect_column_min_to_be_between',\n",
       "    'meta': {}},\n",
       "   {'kwargs': {'min_value': 7, 'max_value': 7, 'column': 'a'},\n",
       "    'expectation_type': 'expect_column_max_to_be_between',\n",
       "    'meta': {}},\n",
       "   {'kwargs': {'min_value': 4.0, 'max_value': 4.0, 'column': 'a'},\n",
       "    'expectation_type': 'expect_column_mean_to_be_between',\n",
       "    'meta': {}},\n",
       "   {'kwargs': {'min_value': 4.0, 'max_value': 4.0, 'column': 'a'},\n",
       "    'expectation_type': 'expect_column_median_to_be_between',\n",
       "    'meta': {}},\n",
       "   {'kwargs': {'quantile_ranges': {'quantiles': [0.05, 0.25, 0.5, 0.75, 0.95],\n",
       "      'value_ranges': [[1, 1], [1, 1], [4, 4], [4, 4], [4, 4]]},\n",
       "     'allow_relative_error': 'lower',\n",
       "     'column': 'a'},\n",
       "    'expectation_type': 'expect_column_quantile_values_to_be_between',\n",
       "    'meta': {}},\n",
       "   {'kwargs': {'column': 'a'},\n",
       "    'expectation_type': 'expect_column_values_to_not_be_null',\n",
       "    'meta': {}},\n",
       "   {'kwargs': {'min_value': 1.0, 'max_value': 1.0, 'column': 'a'},\n",
       "    'expectation_type': 'expect_column_proportion_of_unique_values_to_be_between',\n",
       "    'meta': {}},\n",
       "   {'kwargs': {'type_list': ['INTEGER',\n",
       "      'integer',\n",
       "      'int',\n",
       "      'int_',\n",
       "      'int8',\n",
       "      'int16',\n",
       "      'int32',\n",
       "      'int64',\n",
       "      'uint8',\n",
       "      'uint16',\n",
       "      'uint32',\n",
       "      'uint64',\n",
       "      'Int8Dtype',\n",
       "      'Int16Dtype',\n",
       "      'Int32Dtype',\n",
       "      'Int64Dtype',\n",
       "      'UInt8Dtype',\n",
       "      'UInt16Dtype',\n",
       "      'UInt32Dtype',\n",
       "      'UInt64Dtype',\n",
       "      'INT',\n",
       "      'INTEGER',\n",
       "      'INT64',\n",
       "      'TINYINT',\n",
       "      'BYTEINT',\n",
       "      'SMALLINT',\n",
       "      'BIGINT',\n",
       "      'IntegerType',\n",
       "      'LongType'],\n",
       "     'column': 'a'},\n",
       "    'expectation_type': 'expect_column_values_to_be_in_type_list',\n",
       "    'meta': {}},\n",
       "   {'kwargs': {'min_value': 2, 'max_value': 2, 'column': 'b'},\n",
       "    'expectation_type': 'expect_column_min_to_be_between',\n",
       "    'meta': {}},\n",
       "   {'kwargs': {'min_value': 8, 'max_value': 8, 'column': 'b'},\n",
       "    'expectation_type': 'expect_column_max_to_be_between',\n",
       "    'meta': {}},\n",
       "   {'kwargs': {'min_value': 5.0, 'max_value': 5.0, 'column': 'b'},\n",
       "    'expectation_type': 'expect_column_mean_to_be_between',\n",
       "    'meta': {}},\n",
       "   {'kwargs': {'min_value': 5.0, 'max_value': 5.0, 'column': 'b'},\n",
       "    'expectation_type': 'expect_column_median_to_be_between',\n",
       "    'meta': {}},\n",
       "   {'kwargs': {'quantile_ranges': {'quantiles': [0.05, 0.25, 0.5, 0.75, 0.95],\n",
       "      'value_ranges': [[2, 2], [2, 2], [5, 5], [5, 5], [5, 5]]},\n",
       "     'allow_relative_error': 'lower',\n",
       "     'column': 'b'},\n",
       "    'expectation_type': 'expect_column_quantile_values_to_be_between',\n",
       "    'meta': {}},\n",
       "   {'kwargs': {'column': 'b'},\n",
       "    'expectation_type': 'expect_column_values_to_not_be_null',\n",
       "    'meta': {}},\n",
       "   {'kwargs': {'min_value': 1.0, 'max_value': 1.0, 'column': 'b'},\n",
       "    'expectation_type': 'expect_column_proportion_of_unique_values_to_be_between',\n",
       "    'meta': {}},\n",
       "   {'kwargs': {'type_list': ['INTEGER',\n",
       "      'integer',\n",
       "      'int',\n",
       "      'int_',\n",
       "      'int8',\n",
       "      'int16',\n",
       "      'int32',\n",
       "      'int64',\n",
       "      'uint8',\n",
       "      'uint16',\n",
       "      'uint32',\n",
       "      'uint64',\n",
       "      'Int8Dtype',\n",
       "      'Int16Dtype',\n",
       "      'Int32Dtype',\n",
       "      'Int64Dtype',\n",
       "      'UInt8Dtype',\n",
       "      'UInt16Dtype',\n",
       "      'UInt32Dtype',\n",
       "      'UInt64Dtype',\n",
       "      'INT',\n",
       "      'INTEGER',\n",
       "      'INT64',\n",
       "      'TINYINT',\n",
       "      'BYTEINT',\n",
       "      'SMALLINT',\n",
       "      'BIGINT',\n",
       "      'IntegerType',\n",
       "      'LongType'],\n",
       "     'column': 'b'},\n",
       "    'expectation_type': 'expect_column_values_to_be_in_type_list',\n",
       "    'meta': {}},\n",
       "   {'kwargs': {'min_value': 3, 'max_value': 3, 'column': 'c'},\n",
       "    'expectation_type': 'expect_column_min_to_be_between',\n",
       "    'meta': {}},\n",
       "   {'kwargs': {'min_value': 9, 'max_value': 9, 'column': 'c'},\n",
       "    'expectation_type': 'expect_column_max_to_be_between',\n",
       "    'meta': {}},\n",
       "   {'kwargs': {'min_value': 6.0, 'max_value': 6.0, 'column': 'c'},\n",
       "    'expectation_type': 'expect_column_mean_to_be_between',\n",
       "    'meta': {}},\n",
       "   {'kwargs': {'min_value': 6.0, 'max_value': 6.0, 'column': 'c'},\n",
       "    'expectation_type': 'expect_column_median_to_be_between',\n",
       "    'meta': {}},\n",
       "   {'kwargs': {'quantile_ranges': {'quantiles': [0.05, 0.25, 0.5, 0.75, 0.95],\n",
       "      'value_ranges': [[3, 3], [3, 3], [6, 6], [6, 6], [6, 6]]},\n",
       "     'allow_relative_error': 'lower',\n",
       "     'column': 'c'},\n",
       "    'expectation_type': 'expect_column_quantile_values_to_be_between',\n",
       "    'meta': {}},\n",
       "   {'kwargs': {'column': 'c'},\n",
       "    'expectation_type': 'expect_column_values_to_not_be_null',\n",
       "    'meta': {}},\n",
       "   {'kwargs': {'min_value': 1.0, 'max_value': 1.0, 'column': 'c'},\n",
       "    'expectation_type': 'expect_column_proportion_of_unique_values_to_be_between',\n",
       "    'meta': {}},\n",
       "   {'kwargs': {'type_list': ['INTEGER',\n",
       "      'integer',\n",
       "      'int',\n",
       "      'int_',\n",
       "      'int8',\n",
       "      'int16',\n",
       "      'int32',\n",
       "      'int64',\n",
       "      'uint8',\n",
       "      'uint16',\n",
       "      'uint32',\n",
       "      'uint64',\n",
       "      'Int8Dtype',\n",
       "      'Int16Dtype',\n",
       "      'Int32Dtype',\n",
       "      'Int64Dtype',\n",
       "      'UInt8Dtype',\n",
       "      'UInt16Dtype',\n",
       "      'UInt32Dtype',\n",
       "      'UInt64Dtype',\n",
       "      'INT',\n",
       "      'INTEGER',\n",
       "      'INT64',\n",
       "      'TINYINT',\n",
       "      'BYTEINT',\n",
       "      'SMALLINT',\n",
       "      'BIGINT',\n",
       "      'IntegerType',\n",
       "      'LongType'],\n",
       "     'column': 'c'},\n",
       "    'expectation_type': 'expect_column_values_to_be_in_type_list',\n",
       "    'meta': {}}],\n",
       "  'meta': {'great_expectations_version': '0.14.9',\n",
       "   'columns': {'a': {'description': ''},\n",
       "    'b': {'description': ''},\n",
       "    'c': {'description': ''}}},\n",
       "  'ge_cloud_id': None}}"
      ]
     },
     "execution_count": 42,
     "metadata": {},
     "output_type": "execute_result"
    }
   ],
   "source": [
    "{\"result\": dict_val}"
   ]
  },
  {
   "cell_type": "code",
   "execution_count": null,
   "id": "4368b83a",
   "metadata": {},
   "outputs": [],
   "source": []
  }
 ],
 "metadata": {
  "kernelspec": {
   "display_name": "Python 3 (ipykernel)",
   "language": "python",
   "name": "python3"
  },
  "language_info": {
   "codemirror_mode": {
    "name": "ipython",
    "version": 3
   },
   "file_extension": ".py",
   "mimetype": "text/x-python",
   "name": "python",
   "nbconvert_exporter": "python",
   "pygments_lexer": "ipython3",
   "version": "3.9.7"
  }
 },
 "nbformat": 4,
 "nbformat_minor": 5
}
