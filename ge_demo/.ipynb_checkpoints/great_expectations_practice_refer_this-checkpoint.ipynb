{
 "cells": [
  {
   "cell_type": "code",
   "execution_count": 5,
   "id": "32ba838e",
   "metadata": {},
   "outputs": [],
   "source": [
    "import pandas as pd\n",
    "from ruamel import yaml\n",
    "import great_expectations as ge\n",
    "from great_expectations.core.batch import RuntimeBatchRequest\n",
    "\n"
   ]
  },
  {
   "cell_type": "code",
   "execution_count": 6,
   "id": "dce9a71e",
   "metadata": {},
   "outputs": [
    {
     "name": "stderr",
     "output_type": "stream",
     "text": [
      "Cannot initialize datasource userdetails: Cannot initialize datasource userdetails, error: Couldn't instantiate class: SimpleSqlalchemyDatasource with config: \n",
      "\tcredentials\t\t{'drivername': 'postgresql', 'username': 'postgres', 'password': 'sunny123', 'host': 'localhost', 'port': 5432, 'database': 'postgre_flask'}\n",
      "\tintrospection\t\t{'whole_table': {'class_name': 'InferredAssetSqlDataConnector', 'module_name': 'great_expectations.datasource.data_connector'}}\n",
      "\tname\t\tuserdetails\n",
      " \n",
      "dict() got multiple values for keyword argument 'class_name'\n"
     ]
    }
   ],
   "source": [
    "context = ge.get_context()"
   ]
  },
  {
   "cell_type": "code",
   "execution_count": 7,
   "id": "0ab4d7c8",
   "metadata": {},
   "outputs": [],
   "source": [
    "datasource_config = {\n",
    "    \"name\": \"example_datasource\",\n",
    "    \"class_name\": \"Datasource\",\n",
    "    \"module_name\": \"great_expectations.datasource\",\n",
    "    \"execution_engine\": {\n",
    "        \"module_name\": \"great_expectations.execution_engine\",\n",
    "        \"class_name\": \"PandasExecutionEngine\",\n",
    "    },\n",
    "    \"data_connectors\": {\n",
    "        \"default_runtime_data_connector_name\": {\n",
    "            \"class_name\": \"RuntimeDataConnector\",\n",
    "            \"module_name\": \"great_expectations.datasource.data_connector\",\n",
    "            \"batch_identifiers\": [\"default_identifier_name\"],\n",
    "        },\n",
    "    },\n",
    "}"
   ]
  },
  {
   "cell_type": "code",
   "execution_count": 8,
   "id": "31e26f6f",
   "metadata": {},
   "outputs": [
    {
     "name": "stdout",
     "output_type": "stream",
     "text": [
      "Attempting to instantiate class from config...\n",
      "\tInstantiating as a Datasource, since class_name is Datasource\n",
      "\tSuccessfully instantiated Datasource\n",
      "\n",
      "\n",
      "ExecutionEngine class name: PandasExecutionEngine\n",
      "Data Connectors:\n",
      "\tdefault_runtime_data_connector_name:RuntimeDataConnector\n",
      "\n",
      "\tAvailable data_asset_names (0 of 0):\n",
      "\t\tNote : RuntimeDataConnector will not have data_asset_names until they are passed in through RuntimeBatchRequest\n",
      "\n",
      "\tUnmatched data_references (0 of 0): []\n",
      "\n"
     ]
    },
    {
     "data": {
      "text/plain": [
       "<great_expectations.datasource.new_datasource.Datasource at 0x7fb8ca750100>"
      ]
     },
     "execution_count": 8,
     "metadata": {},
     "output_type": "execute_result"
    }
   ],
   "source": [
    "context.test_yaml_config(yaml.dump(datasource_config))"
   ]
  },
  {
   "cell_type": "code",
   "execution_count": 9,
   "id": "a4e718b0",
   "metadata": {},
   "outputs": [
    {
     "data": {
      "text/plain": [
       "<great_expectations.datasource.new_datasource.Datasource at 0x7fb8ca8011c0>"
      ]
     },
     "execution_count": 9,
     "metadata": {},
     "output_type": "execute_result"
    }
   ],
   "source": [
    "context.add_datasource(**datasource_config)\n"
   ]
  },
  {
   "cell_type": "code",
   "execution_count": 10,
   "id": "6b206147",
   "metadata": {},
   "outputs": [],
   "source": [
    "df = pd.DataFrame([[1, 2, 3], [4, 5, 6], [7, 8, 9]], columns=[\"a\", \"b\", \"c\"])"
   ]
  },
  {
   "cell_type": "code",
   "execution_count": 11,
   "id": "f2989414",
   "metadata": {},
   "outputs": [
    {
     "data": {
      "text/html": [
       "<div>\n",
       "<style scoped>\n",
       "    .dataframe tbody tr th:only-of-type {\n",
       "        vertical-align: middle;\n",
       "    }\n",
       "\n",
       "    .dataframe tbody tr th {\n",
       "        vertical-align: top;\n",
       "    }\n",
       "\n",
       "    .dataframe thead th {\n",
       "        text-align: right;\n",
       "    }\n",
       "</style>\n",
       "<table border=\"1\" class=\"dataframe\">\n",
       "  <thead>\n",
       "    <tr style=\"text-align: right;\">\n",
       "      <th></th>\n",
       "      <th>a</th>\n",
       "      <th>b</th>\n",
       "      <th>c</th>\n",
       "    </tr>\n",
       "  </thead>\n",
       "  <tbody>\n",
       "    <tr>\n",
       "      <th>0</th>\n",
       "      <td>1</td>\n",
       "      <td>2</td>\n",
       "      <td>3</td>\n",
       "    </tr>\n",
       "    <tr>\n",
       "      <th>1</th>\n",
       "      <td>4</td>\n",
       "      <td>5</td>\n",
       "      <td>6</td>\n",
       "    </tr>\n",
       "    <tr>\n",
       "      <th>2</th>\n",
       "      <td>7</td>\n",
       "      <td>8</td>\n",
       "      <td>9</td>\n",
       "    </tr>\n",
       "  </tbody>\n",
       "</table>\n",
       "</div>"
      ],
      "text/plain": [
       "   a  b  c\n",
       "0  1  2  3\n",
       "1  4  5  6\n",
       "2  7  8  9"
      ]
     },
     "execution_count": 11,
     "metadata": {},
     "output_type": "execute_result"
    }
   ],
   "source": [
    "df"
   ]
  },
  {
   "cell_type": "code",
   "execution_count": 12,
   "id": "8c6eed8f",
   "metadata": {},
   "outputs": [],
   "source": [
    "batch_request = RuntimeBatchRequest(\n",
    "    datasource_name=\"example_datasource\",\n",
    "    data_connector_name=\"default_runtime_data_connector_name\",\n",
    "    data_asset_name=\"<YOUR_MEANINGFUL_NAME>\",  # This can be anything that identifies this data_asset for you\n",
    "    runtime_parameters={\"batch_data\": df},  # df is your dataframe\n",
    "    batch_identifiers={\"default_identifier_name\": \"default_identifier\"},\n",
    ")"
   ]
  },
  {
   "cell_type": "code",
   "execution_count": 13,
   "id": "ff2fd783",
   "metadata": {},
   "outputs": [
    {
     "data": {
      "text/plain": [
       "{\n",
       "  \"datasource_name\": \"example_datasource\",\n",
       "  \"data_connector_name\": \"default_runtime_data_connector_name\",\n",
       "  \"data_asset_name\": \"<YOUR_MEANINGFUL_NAME>\",\n",
       "  \"runtime_parameters\": {\n",
       "    \"batch_data\": [\n",
       "      {\n",
       "        \"a\": 1,\n",
       "        \"b\": 2,\n",
       "        \"c\": 3\n",
       "      },\n",
       "      {\n",
       "        \"a\": 4,\n",
       "        \"b\": 5,\n",
       "        \"c\": 6\n",
       "      },\n",
       "      {\n",
       "        \"a\": 7,\n",
       "        \"b\": 8,\n",
       "        \"c\": 9\n",
       "      }\n",
       "    ]\n",
       "  },\n",
       "  \"batch_identifiers\": {\n",
       "    \"default_identifier_name\": \"default_identifier\"\n",
       "  }\n",
       "}"
      ]
     },
     "execution_count": 13,
     "metadata": {},
     "output_type": "execute_result"
    }
   ],
   "source": [
    "batch_request"
   ]
  },
  {
   "cell_type": "code",
   "execution_count": 15,
   "id": "4a59560c",
   "metadata": {},
   "outputs": [
    {
     "data": {
      "application/vnd.jupyter.widget-view+json": {
       "model_id": "863a1a2414614db1980bcf1b4f8cfa40",
       "version_major": 2,
       "version_minor": 0
      },
      "text/plain": [
       "Calculating Metrics:   0%|          | 0/1 [00:00<?, ?it/s]"
      ]
     },
     "metadata": {},
     "output_type": "display_data"
    },
    {
     "data": {
      "application/vnd.jupyter.widget-view+json": {
       "model_id": "80eccfa5c6dd44779d13ed3db2a82b6c",
       "version_major": 2,
       "version_minor": 0
      },
      "text/plain": [
       "Calculating Metrics:   0%|          | 0/2 [00:00<?, ?it/s]"
      ]
     },
     "metadata": {},
     "output_type": "display_data"
    },
    {
     "data": {
      "application/vnd.jupyter.widget-view+json": {
       "model_id": "da95d4220d4d437fab2c75a3be1365de",
       "version_major": 2,
       "version_minor": 0
      },
      "text/plain": [
       "Calculating Metrics:   0%|          | 0/4 [00:00<?, ?it/s]"
      ]
     },
     "metadata": {},
     "output_type": "display_data"
    },
    {
     "data": {
      "application/vnd.jupyter.widget-view+json": {
       "model_id": "002f521c63c646bfa8d618951de33499",
       "version_major": 2,
       "version_minor": 0
      },
      "text/plain": [
       "Calculating Metrics:   0%|          | 0/7 [00:00<?, ?it/s]"
      ]
     },
     "metadata": {},
     "output_type": "display_data"
    },
    {
     "data": {
      "application/vnd.jupyter.widget-view+json": {
       "model_id": "c6cda046606149509f99bcf712cb0cfe",
       "version_major": 2,
       "version_minor": 0
      },
      "text/plain": [
       "Calculating Metrics:   0%|          | 0/1 [00:00<?, ?it/s]"
      ]
     },
     "metadata": {},
     "output_type": "display_data"
    },
    {
     "data": {
      "application/vnd.jupyter.widget-view+json": {
       "model_id": "42687a0d07664b3ea3d354cef9db664f",
       "version_major": 2,
       "version_minor": 0
      },
      "text/plain": [
       "Calculating Metrics:   0%|          | 0/1 [00:00<?, ?it/s]"
      ]
     },
     "metadata": {},
     "output_type": "display_data"
    },
    {
     "data": {
      "application/vnd.jupyter.widget-view+json": {
       "model_id": "eb0b99ab352547f09028dfea56fd4417",
       "version_major": 2,
       "version_minor": 0
      },
      "text/plain": [
       "Calculating Metrics:   0%|          | 0/1 [00:00<?, ?it/s]"
      ]
     },
     "metadata": {},
     "output_type": "display_data"
    },
    {
     "data": {
      "application/vnd.jupyter.widget-view+json": {
       "model_id": "ba92cf8147b047c6a0a0b832a01d0106",
       "version_major": 2,
       "version_minor": 0
      },
      "text/plain": [
       "Calculating Metrics:   0%|          | 0/4 [00:00<?, ?it/s]"
      ]
     },
     "metadata": {},
     "output_type": "display_data"
    },
    {
     "data": {
      "application/vnd.jupyter.widget-view+json": {
       "model_id": "3d61e536ba294fdb86a6e847632f9ed0",
       "version_major": 2,
       "version_minor": 0
      },
      "text/plain": [
       "Calculating Metrics:   0%|          | 0/7 [00:00<?, ?it/s]"
      ]
     },
     "metadata": {},
     "output_type": "display_data"
    },
    {
     "data": {
      "application/vnd.jupyter.widget-view+json": {
       "model_id": "c4eb7f2e0ce7498782adfb4e774b789f",
       "version_major": 2,
       "version_minor": 0
      },
      "text/plain": [
       "Calculating Metrics:   0%|          | 0/1 [00:00<?, ?it/s]"
      ]
     },
     "metadata": {},
     "output_type": "display_data"
    },
    {
     "data": {
      "application/vnd.jupyter.widget-view+json": {
       "model_id": "6c676105f57546e28dd4a18c778039de",
       "version_major": 2,
       "version_minor": 0
      },
      "text/plain": [
       "Calculating Metrics:   0%|          | 0/1 [00:00<?, ?it/s]"
      ]
     },
     "metadata": {},
     "output_type": "display_data"
    },
    {
     "data": {
      "application/vnd.jupyter.widget-view+json": {
       "model_id": "ae6288132541453bafadde24732f18ec",
       "version_major": 2,
       "version_minor": 0
      },
      "text/plain": [
       "Calculating Metrics:   0%|          | 0/1 [00:00<?, ?it/s]"
      ]
     },
     "metadata": {},
     "output_type": "display_data"
    },
    {
     "data": {
      "application/vnd.jupyter.widget-view+json": {
       "model_id": "3b2fa55824564239bb81fa9473e492bd",
       "version_major": 2,
       "version_minor": 0
      },
      "text/plain": [
       "Calculating Metrics:   0%|          | 0/4 [00:00<?, ?it/s]"
      ]
     },
     "metadata": {},
     "output_type": "display_data"
    },
    {
     "data": {
      "application/vnd.jupyter.widget-view+json": {
       "model_id": "ead50d63136946d5b86271674819a0ec",
       "version_major": 2,
       "version_minor": 0
      },
      "text/plain": [
       "Calculating Metrics:   0%|          | 0/7 [00:00<?, ?it/s]"
      ]
     },
     "metadata": {},
     "output_type": "display_data"
    },
    {
     "data": {
      "application/vnd.jupyter.widget-view+json": {
       "model_id": "daaf098caa8a462bb7436f164eeb5e4a",
       "version_major": 2,
       "version_minor": 0
      },
      "text/plain": [
       "Calculating Metrics:   0%|          | 0/1 [00:00<?, ?it/s]"
      ]
     },
     "metadata": {},
     "output_type": "display_data"
    },
    {
     "data": {
      "application/vnd.jupyter.widget-view+json": {
       "model_id": "935df7fbf7e841e1a1c15ff5d1039e8d",
       "version_major": 2,
       "version_minor": 0
      },
      "text/plain": [
       "Calculating Metrics:   0%|          | 0/1 [00:00<?, ?it/s]"
      ]
     },
     "metadata": {},
     "output_type": "display_data"
    },
    {
     "data": {
      "application/vnd.jupyter.widget-view+json": {
       "model_id": "5bb790ba52e84807bb5a57cf7d23e706",
       "version_major": 2,
       "version_minor": 0
      },
      "text/plain": [
       "Calculating Metrics:   0%|          | 0/1 [00:00<?, ?it/s]"
      ]
     },
     "metadata": {},
     "output_type": "display_data"
    }
   ],
   "source": [
    "context.create_expectation_suite(\n",
    "    expectation_suite_name=\"test_suite\", overwrite_existing=True\n",
    ")\n",
    "validator = context.get_validator(\n",
    "    batch_request=batch_request, expectation_suite_name=\"test_suite\"\n",
    ")\n",
    "(validator.head())\n",
    "from great_expectations.profile.user_configurable_profiler import UserConfigurableProfiler\n",
    "profiler = UserConfigurableProfiler(profile_dataset=validator)"
   ]
  },
  {
   "cell_type": "code",
   "execution_count": 17,
   "id": "bf63b302",
   "metadata": {},
   "outputs": [
    {
     "data": {
      "application/vnd.jupyter.widget-view+json": {
       "model_id": "270a6a033dc5439391efa52304596e36",
       "version_major": 2,
       "version_minor": 0
      },
      "text/plain": [
       "Calculating Metrics:   0%|          | 0/2 [00:00<?, ?it/s]"
      ]
     },
     "metadata": {},
     "output_type": "display_data"
    },
    {
     "data": {
      "application/vnd.jupyter.widget-view+json": {
       "model_id": "10fb05ac69484f6f8abc08f911f7dbb7",
       "version_major": 2,
       "version_minor": 0
      },
      "text/plain": [
       "Calculating Metrics:   0%|          | 0/4 [00:00<?, ?it/s]"
      ]
     },
     "metadata": {},
     "output_type": "display_data"
    },
    {
     "data": {
      "application/vnd.jupyter.widget-view+json": {
       "model_id": "d59040138fec4fe8b5463d4da90c26a0",
       "version_major": 2,
       "version_minor": 0
      },
      "text/plain": [
       "Calculating Metrics:   0%|          | 0/7 [00:00<?, ?it/s]"
      ]
     },
     "metadata": {},
     "output_type": "display_data"
    },
    {
     "data": {
      "application/vnd.jupyter.widget-view+json": {
       "model_id": "fef4fe3c34204510b3e2933eb15bd0fd",
       "version_major": 2,
       "version_minor": 0
      },
      "text/plain": [
       "Calculating Metrics:   0%|          | 0/1 [00:00<?, ?it/s]"
      ]
     },
     "metadata": {},
     "output_type": "display_data"
    },
    {
     "data": {
      "application/vnd.jupyter.widget-view+json": {
       "model_id": "335a94ae5c094d90b2f5d3181d8461de",
       "version_major": 2,
       "version_minor": 0
      },
      "text/plain": [
       "Calculating Metrics:   0%|          | 0/1 [00:00<?, ?it/s]"
      ]
     },
     "metadata": {},
     "output_type": "display_data"
    },
    {
     "data": {
      "application/vnd.jupyter.widget-view+json": {
       "model_id": "3ea27684e04e4fd692691ed40d8a0a94",
       "version_major": 2,
       "version_minor": 0
      },
      "text/plain": [
       "Calculating Metrics:   0%|          | 0/1 [00:00<?, ?it/s]"
      ]
     },
     "metadata": {},
     "output_type": "display_data"
    },
    {
     "data": {
      "application/vnd.jupyter.widget-view+json": {
       "model_id": "d4dc2066a4c74136b4799579f21e14d8",
       "version_major": 2,
       "version_minor": 0
      },
      "text/plain": [
       "Calculating Metrics:   0%|          | 0/4 [00:00<?, ?it/s]"
      ]
     },
     "metadata": {},
     "output_type": "display_data"
    },
    {
     "data": {
      "application/vnd.jupyter.widget-view+json": {
       "model_id": "55391182eade4535be2e970092b71879",
       "version_major": 2,
       "version_minor": 0
      },
      "text/plain": [
       "Calculating Metrics:   0%|          | 0/7 [00:00<?, ?it/s]"
      ]
     },
     "metadata": {},
     "output_type": "display_data"
    },
    {
     "data": {
      "application/vnd.jupyter.widget-view+json": {
       "model_id": "e8a9602e3e7a40398c070c582027cacc",
       "version_major": 2,
       "version_minor": 0
      },
      "text/plain": [
       "Calculating Metrics:   0%|          | 0/1 [00:00<?, ?it/s]"
      ]
     },
     "metadata": {},
     "output_type": "display_data"
    },
    {
     "data": {
      "application/vnd.jupyter.widget-view+json": {
       "model_id": "13ef2b49adb64439a8d860c25bfae6ca",
       "version_major": 2,
       "version_minor": 0
      },
      "text/plain": [
       "Calculating Metrics:   0%|          | 0/1 [00:00<?, ?it/s]"
      ]
     },
     "metadata": {},
     "output_type": "display_data"
    },
    {
     "data": {
      "application/vnd.jupyter.widget-view+json": {
       "model_id": "7a50228bc1f749d3abd2ffbf7590a8c3",
       "version_major": 2,
       "version_minor": 0
      },
      "text/plain": [
       "Calculating Metrics:   0%|          | 0/1 [00:00<?, ?it/s]"
      ]
     },
     "metadata": {},
     "output_type": "display_data"
    },
    {
     "data": {
      "application/vnd.jupyter.widget-view+json": {
       "model_id": "322a576462a24b72a5c4f5d92ee52855",
       "version_major": 2,
       "version_minor": 0
      },
      "text/plain": [
       "Calculating Metrics:   0%|          | 0/4 [00:00<?, ?it/s]"
      ]
     },
     "metadata": {},
     "output_type": "display_data"
    },
    {
     "data": {
      "application/vnd.jupyter.widget-view+json": {
       "model_id": "89ac3d639a1c48aa90fba35b6e9108e4",
       "version_major": 2,
       "version_minor": 0
      },
      "text/plain": [
       "Calculating Metrics:   0%|          | 0/7 [00:00<?, ?it/s]"
      ]
     },
     "metadata": {},
     "output_type": "display_data"
    },
    {
     "data": {
      "application/vnd.jupyter.widget-view+json": {
       "model_id": "3b3e46f396b642fab91f9b837ec1154d",
       "version_major": 2,
       "version_minor": 0
      },
      "text/plain": [
       "Calculating Metrics:   0%|          | 0/1 [00:00<?, ?it/s]"
      ]
     },
     "metadata": {},
     "output_type": "display_data"
    },
    {
     "data": {
      "application/vnd.jupyter.widget-view+json": {
       "model_id": "064e53624ced4608b0d6b337954dc8d4",
       "version_major": 2,
       "version_minor": 0
      },
      "text/plain": [
       "Calculating Metrics:   0%|          | 0/1 [00:00<?, ?it/s]"
      ]
     },
     "metadata": {},
     "output_type": "display_data"
    },
    {
     "data": {
      "application/vnd.jupyter.widget-view+json": {
       "model_id": "d9261fccb7354c55b3e7f30e8df76206",
       "version_major": 2,
       "version_minor": 0
      },
      "text/plain": [
       "Calculating Metrics:   0%|          | 0/1 [00:00<?, ?it/s]"
      ]
     },
     "metadata": {},
     "output_type": "display_data"
    },
    {
     "data": {
      "application/vnd.jupyter.widget-view+json": {
       "model_id": "3638f49f358e4cfabc3aacb358e81716",
       "version_major": 2,
       "version_minor": 0
      },
      "text/plain": [
       "Calculating Metrics:   0%|          | 0/2 [00:00<?, ?it/s]"
      ]
     },
     "metadata": {},
     "output_type": "display_data"
    },
    {
     "data": {
      "application/vnd.jupyter.widget-view+json": {
       "model_id": "2100fb4a22a54b8f81c34d47c092f761",
       "version_major": 2,
       "version_minor": 0
      },
      "text/plain": [
       "Calculating Metrics:   0%|          | 0/1 [00:00<?, ?it/s]"
      ]
     },
     "metadata": {},
     "output_type": "display_data"
    },
    {
     "data": {
      "application/vnd.jupyter.widget-view+json": {
       "model_id": "2ba4da25478d4fa396acec618e8f9906",
       "version_major": 2,
       "version_minor": 0
      },
      "text/plain": [
       "Calculating Metrics:   0%|          | 0/1 [00:00<?, ?it/s]"
      ]
     },
     "metadata": {},
     "output_type": "display_data"
    },
    {
     "data": {
      "application/vnd.jupyter.widget-view+json": {
       "model_id": "314dae17cdf249a794b7cdd333671f49",
       "version_major": 2,
       "version_minor": 0
      },
      "text/plain": [
       "Profiling:   0%|          | 0/3 [00:00<?, ?it/s, Column=a]"
      ]
     },
     "metadata": {},
     "output_type": "display_data"
    },
    {
     "data": {
      "application/vnd.jupyter.widget-view+json": {
       "model_id": "dd5fffcafea6459aa60666747358806e",
       "version_major": 2,
       "version_minor": 0
      },
      "text/plain": [
       "Calculating Metrics:   0%|          | 0/4 [00:00<?, ?it/s]"
      ]
     },
     "metadata": {},
     "output_type": "display_data"
    },
    {
     "data": {
      "application/vnd.jupyter.widget-view+json": {
       "model_id": "986cd2ef611d47cc9732203c7c2f51bf",
       "version_major": 2,
       "version_minor": 0
      },
      "text/plain": [
       "Calculating Metrics:   0%|          | 0/4 [00:00<?, ?it/s]"
      ]
     },
     "metadata": {},
     "output_type": "display_data"
    },
    {
     "data": {
      "application/vnd.jupyter.widget-view+json": {
       "model_id": "da0402ad50c54ec39a2b184299e04306",
       "version_major": 2,
       "version_minor": 0
      },
      "text/plain": [
       "Calculating Metrics:   0%|          | 0/4 [00:00<?, ?it/s]"
      ]
     },
     "metadata": {},
     "output_type": "display_data"
    },
    {
     "data": {
      "application/vnd.jupyter.widget-view+json": {
       "model_id": "3fe68ca92b9d4991a31d0099da28d2a7",
       "version_major": 2,
       "version_minor": 0
      },
      "text/plain": [
       "Calculating Metrics:   0%|          | 0/4 [00:00<?, ?it/s]"
      ]
     },
     "metadata": {},
     "output_type": "display_data"
    },
    {
     "data": {
      "application/vnd.jupyter.widget-view+json": {
       "model_id": "2e8289ab28a24aeba5ffe443f1f8318a",
       "version_major": 2,
       "version_minor": 0
      },
      "text/plain": [
       "Calculating Metrics:   0%|          | 0/4 [00:00<?, ?it/s]"
      ]
     },
     "metadata": {},
     "output_type": "display_data"
    },
    {
     "data": {
      "application/vnd.jupyter.widget-view+json": {
       "model_id": "52c61f0de55e4e97a95a71639f69866e",
       "version_major": 2,
       "version_minor": 0
      },
      "text/plain": [
       "Calculating Metrics:   0%|          | 0/4 [00:00<?, ?it/s]"
      ]
     },
     "metadata": {},
     "output_type": "display_data"
    },
    {
     "data": {
      "application/vnd.jupyter.widget-view+json": {
       "model_id": "ee0d15e6176d45358573f91a2c556609",
       "version_major": 2,
       "version_minor": 0
      },
      "text/plain": [
       "Calculating Metrics:   0%|          | 0/4 [00:00<?, ?it/s]"
      ]
     },
     "metadata": {},
     "output_type": "display_data"
    },
    {
     "data": {
      "application/vnd.jupyter.widget-view+json": {
       "model_id": "cd006f25ff0441028cede64746d20861",
       "version_major": 2,
       "version_minor": 0
      },
      "text/plain": [
       "Calculating Metrics:   0%|          | 0/4 [00:00<?, ?it/s]"
      ]
     },
     "metadata": {},
     "output_type": "display_data"
    },
    {
     "data": {
      "application/vnd.jupyter.widget-view+json": {
       "model_id": "64455c3a13964618973cd9e2cac5dc25",
       "version_major": 2,
       "version_minor": 0
      },
      "text/plain": [
       "Calculating Metrics:   0%|          | 0/4 [00:00<?, ?it/s]"
      ]
     },
     "metadata": {},
     "output_type": "display_data"
    },
    {
     "data": {
      "application/vnd.jupyter.widget-view+json": {
       "model_id": "0acc050550d14cd0b4bb46da2cd24a00",
       "version_major": 2,
       "version_minor": 0
      },
      "text/plain": [
       "Calculating Metrics:   0%|          | 0/4 [00:00<?, ?it/s]"
      ]
     },
     "metadata": {},
     "output_type": "display_data"
    },
    {
     "data": {
      "application/vnd.jupyter.widget-view+json": {
       "model_id": "53b6e3e874794c039039cb0fd00eebde",
       "version_major": 2,
       "version_minor": 0
      },
      "text/plain": [
       "Calculating Metrics:   0%|          | 0/6 [00:00<?, ?it/s]"
      ]
     },
     "metadata": {},
     "output_type": "display_data"
    },
    {
     "data": {
      "application/vnd.jupyter.widget-view+json": {
       "model_id": "9469a65a16844b37b376a8a98d19a3f2",
       "version_major": 2,
       "version_minor": 0
      },
      "text/plain": [
       "Calculating Metrics:   0%|          | 0/7 [00:00<?, ?it/s]"
      ]
     },
     "metadata": {},
     "output_type": "display_data"
    },
    {
     "data": {
      "application/vnd.jupyter.widget-view+json": {
       "model_id": "22ff4f0d1a26453b9516351f5620861c",
       "version_major": 2,
       "version_minor": 0
      },
      "text/plain": [
       "Calculating Metrics:   0%|          | 0/7 [00:00<?, ?it/s]"
      ]
     },
     "metadata": {},
     "output_type": "display_data"
    },
    {
     "data": {
      "application/vnd.jupyter.widget-view+json": {
       "model_id": "5240fd9314d54d2d95050b369a4cea62",
       "version_major": 2,
       "version_minor": 0
      },
      "text/plain": [
       "Calculating Metrics:   0%|          | 0/1 [00:00<?, ?it/s]"
      ]
     },
     "metadata": {},
     "output_type": "display_data"
    },
    {
     "data": {
      "application/vnd.jupyter.widget-view+json": {
       "model_id": "09dc17c708ce4ca98eb56d626efaf900",
       "version_major": 2,
       "version_minor": 0
      },
      "text/plain": [
       "Calculating Metrics:   0%|          | 0/4 [00:00<?, ?it/s]"
      ]
     },
     "metadata": {},
     "output_type": "display_data"
    },
    {
     "data": {
      "application/vnd.jupyter.widget-view+json": {
       "model_id": "2c05b2b5446e4c51932cb9b78a16fb84",
       "version_major": 2,
       "version_minor": 0
      },
      "text/plain": [
       "Calculating Metrics:   0%|          | 0/4 [00:00<?, ?it/s]"
      ]
     },
     "metadata": {},
     "output_type": "display_data"
    },
    {
     "data": {
      "application/vnd.jupyter.widget-view+json": {
       "model_id": "719310596e704228a159710ea0fe9c5d",
       "version_major": 2,
       "version_minor": 0
      },
      "text/plain": [
       "Calculating Metrics:   0%|          | 0/4 [00:00<?, ?it/s]"
      ]
     },
     "metadata": {},
     "output_type": "display_data"
    },
    {
     "data": {
      "application/vnd.jupyter.widget-view+json": {
       "model_id": "14650d9fe3a7430587940e546b1d4e9e",
       "version_major": 2,
       "version_minor": 0
      },
      "text/plain": [
       "Calculating Metrics:   0%|          | 0/4 [00:00<?, ?it/s]"
      ]
     },
     "metadata": {},
     "output_type": "display_data"
    },
    {
     "data": {
      "application/vnd.jupyter.widget-view+json": {
       "model_id": "f098cadaa37741b3af182fa7c700db20",
       "version_major": 2,
       "version_minor": 0
      },
      "text/plain": [
       "Calculating Metrics:   0%|          | 0/4 [00:00<?, ?it/s]"
      ]
     },
     "metadata": {},
     "output_type": "display_data"
    },
    {
     "data": {
      "application/vnd.jupyter.widget-view+json": {
       "model_id": "f582f9530fbe46fb843da5ff90a05207",
       "version_major": 2,
       "version_minor": 0
      },
      "text/plain": [
       "Calculating Metrics:   0%|          | 0/4 [00:00<?, ?it/s]"
      ]
     },
     "metadata": {},
     "output_type": "display_data"
    },
    {
     "data": {
      "application/vnd.jupyter.widget-view+json": {
       "model_id": "b9fd2e2fd4174112b9c02f5e5cc5eedf",
       "version_major": 2,
       "version_minor": 0
      },
      "text/plain": [
       "Calculating Metrics:   0%|          | 0/4 [00:00<?, ?it/s]"
      ]
     },
     "metadata": {},
     "output_type": "display_data"
    },
    {
     "data": {
      "application/vnd.jupyter.widget-view+json": {
       "model_id": "fb9a0ea9e7a5495c8c433bd0627ad35e",
       "version_major": 2,
       "version_minor": 0
      },
      "text/plain": [
       "Calculating Metrics:   0%|          | 0/4 [00:00<?, ?it/s]"
      ]
     },
     "metadata": {},
     "output_type": "display_data"
    },
    {
     "data": {
      "application/vnd.jupyter.widget-view+json": {
       "model_id": "ffc26cb51ebd437eabe160570c88ea79",
       "version_major": 2,
       "version_minor": 0
      },
      "text/plain": [
       "Calculating Metrics:   0%|          | 0/4 [00:00<?, ?it/s]"
      ]
     },
     "metadata": {},
     "output_type": "display_data"
    },
    {
     "data": {
      "application/vnd.jupyter.widget-view+json": {
       "model_id": "d8f4c3d7a9ae4534888dcfb893bf1fb0",
       "version_major": 2,
       "version_minor": 0
      },
      "text/plain": [
       "Calculating Metrics:   0%|          | 0/4 [00:00<?, ?it/s]"
      ]
     },
     "metadata": {},
     "output_type": "display_data"
    },
    {
     "data": {
      "application/vnd.jupyter.widget-view+json": {
       "model_id": "69ba3ccadc1b4fc690f4a08e53ea84b4",
       "version_major": 2,
       "version_minor": 0
      },
      "text/plain": [
       "Calculating Metrics:   0%|          | 0/6 [00:00<?, ?it/s]"
      ]
     },
     "metadata": {},
     "output_type": "display_data"
    },
    {
     "data": {
      "application/vnd.jupyter.widget-view+json": {
       "model_id": "6912d8c47d25405b81c245d5883441bd",
       "version_major": 2,
       "version_minor": 0
      },
      "text/plain": [
       "Calculating Metrics:   0%|          | 0/7 [00:00<?, ?it/s]"
      ]
     },
     "metadata": {},
     "output_type": "display_data"
    },
    {
     "data": {
      "application/vnd.jupyter.widget-view+json": {
       "model_id": "38f46df625674738ae5ee050a4908daa",
       "version_major": 2,
       "version_minor": 0
      },
      "text/plain": [
       "Calculating Metrics:   0%|          | 0/7 [00:00<?, ?it/s]"
      ]
     },
     "metadata": {},
     "output_type": "display_data"
    },
    {
     "data": {
      "application/vnd.jupyter.widget-view+json": {
       "model_id": "40dd945ccf7e4c1b80e22a52b0c7e778",
       "version_major": 2,
       "version_minor": 0
      },
      "text/plain": [
       "Calculating Metrics:   0%|          | 0/1 [00:00<?, ?it/s]"
      ]
     },
     "metadata": {},
     "output_type": "display_data"
    },
    {
     "data": {
      "application/vnd.jupyter.widget-view+json": {
       "model_id": "72ab999c7bb84a7e8698cebb6aea4521",
       "version_major": 2,
       "version_minor": 0
      },
      "text/plain": [
       "Calculating Metrics:   0%|          | 0/4 [00:00<?, ?it/s]"
      ]
     },
     "metadata": {},
     "output_type": "display_data"
    },
    {
     "data": {
      "application/vnd.jupyter.widget-view+json": {
       "model_id": "a9890d34ceaf47a89b24dc9e8e5a8ed0",
       "version_major": 2,
       "version_minor": 0
      },
      "text/plain": [
       "Calculating Metrics:   0%|          | 0/4 [00:00<?, ?it/s]"
      ]
     },
     "metadata": {},
     "output_type": "display_data"
    },
    {
     "data": {
      "application/vnd.jupyter.widget-view+json": {
       "model_id": "38816044bb8847ccb0f335e66ad33503",
       "version_major": 2,
       "version_minor": 0
      },
      "text/plain": [
       "Calculating Metrics:   0%|          | 0/4 [00:00<?, ?it/s]"
      ]
     },
     "metadata": {},
     "output_type": "display_data"
    },
    {
     "data": {
      "application/vnd.jupyter.widget-view+json": {
       "model_id": "e88f6504abd3415cb450a3b7967c71b1",
       "version_major": 2,
       "version_minor": 0
      },
      "text/plain": [
       "Calculating Metrics:   0%|          | 0/4 [00:00<?, ?it/s]"
      ]
     },
     "metadata": {},
     "output_type": "display_data"
    },
    {
     "data": {
      "application/vnd.jupyter.widget-view+json": {
       "model_id": "3870a8df83a24cc4bad602d5b2ef903d",
       "version_major": 2,
       "version_minor": 0
      },
      "text/plain": [
       "Calculating Metrics:   0%|          | 0/4 [00:00<?, ?it/s]"
      ]
     },
     "metadata": {},
     "output_type": "display_data"
    },
    {
     "data": {
      "application/vnd.jupyter.widget-view+json": {
       "model_id": "066d82148a1d40da8ae98548e8cc8bbe",
       "version_major": 2,
       "version_minor": 0
      },
      "text/plain": [
       "Calculating Metrics:   0%|          | 0/4 [00:00<?, ?it/s]"
      ]
     },
     "metadata": {},
     "output_type": "display_data"
    },
    {
     "data": {
      "application/vnd.jupyter.widget-view+json": {
       "model_id": "b01e2f8dff3748758fe0ebd820e853b0",
       "version_major": 2,
       "version_minor": 0
      },
      "text/plain": [
       "Calculating Metrics:   0%|          | 0/4 [00:00<?, ?it/s]"
      ]
     },
     "metadata": {},
     "output_type": "display_data"
    },
    {
     "data": {
      "application/vnd.jupyter.widget-view+json": {
       "model_id": "991561f6f4b74ebc90a0894e18dae8f1",
       "version_major": 2,
       "version_minor": 0
      },
      "text/plain": [
       "Calculating Metrics:   0%|          | 0/4 [00:00<?, ?it/s]"
      ]
     },
     "metadata": {},
     "output_type": "display_data"
    },
    {
     "data": {
      "application/vnd.jupyter.widget-view+json": {
       "model_id": "17277335fe1a48ef89ea2d790d281ece",
       "version_major": 2,
       "version_minor": 0
      },
      "text/plain": [
       "Calculating Metrics:   0%|          | 0/4 [00:00<?, ?it/s]"
      ]
     },
     "metadata": {},
     "output_type": "display_data"
    },
    {
     "data": {
      "application/vnd.jupyter.widget-view+json": {
       "model_id": "62a850ecdf7146da984eab98325e683b",
       "version_major": 2,
       "version_minor": 0
      },
      "text/plain": [
       "Calculating Metrics:   0%|          | 0/4 [00:00<?, ?it/s]"
      ]
     },
     "metadata": {},
     "output_type": "display_data"
    },
    {
     "data": {
      "application/vnd.jupyter.widget-view+json": {
       "model_id": "522d0d7866a34f35b43bf607a9a88f03",
       "version_major": 2,
       "version_minor": 0
      },
      "text/plain": [
       "Calculating Metrics:   0%|          | 0/6 [00:00<?, ?it/s]"
      ]
     },
     "metadata": {},
     "output_type": "display_data"
    },
    {
     "data": {
      "application/vnd.jupyter.widget-view+json": {
       "model_id": "a538cd8942f443ffb7aec2e64265b499",
       "version_major": 2,
       "version_minor": 0
      },
      "text/plain": [
       "Calculating Metrics:   0%|          | 0/7 [00:00<?, ?it/s]"
      ]
     },
     "metadata": {},
     "output_type": "display_data"
    },
    {
     "data": {
      "application/vnd.jupyter.widget-view+json": {
       "model_id": "21bb3d5ce22149beb814d1e4f04b52b7",
       "version_major": 2,
       "version_minor": 0
      },
      "text/plain": [
       "Calculating Metrics:   0%|          | 0/7 [00:00<?, ?it/s]"
      ]
     },
     "metadata": {},
     "output_type": "display_data"
    },
    {
     "data": {
      "application/vnd.jupyter.widget-view+json": {
       "model_id": "f91080ba7f0b4e72b3c1000c3bd34dd4",
       "version_major": 2,
       "version_minor": 0
      },
      "text/plain": [
       "Calculating Metrics:   0%|          | 0/1 [00:00<?, ?it/s]"
      ]
     },
     "metadata": {},
     "output_type": "display_data"
    },
    {
     "name": "stdout",
     "output_type": "stream",
     "text": [
      "Creating an expectation suite with the following expectations:\n",
      "\n",
      "Table-Level Expectations\n",
      "expect_table_columns_to_match_ordered_list\n",
      "expect_table_row_count_to_be_between\n",
      "\n",
      "Expectations by Column\n",
      "Column Name: a | Column Data Type: INT | Cardinality: UNIQUE\n",
      "expect_column_max_to_be_between\n",
      "expect_column_mean_to_be_between\n",
      "expect_column_median_to_be_between\n",
      "expect_column_min_to_be_between\n",
      "expect_column_proportion_of_unique_values_to_be_between\n",
      "expect_column_quantile_values_to_be_between\n",
      "expect_column_values_to_be_in_type_list\n",
      "expect_column_values_to_not_be_null\n",
      "\n",
      "\n",
      "Column Name: b | Column Data Type: INT | Cardinality: UNIQUE\n",
      "expect_column_max_to_be_between\n",
      "expect_column_mean_to_be_between\n",
      "expect_column_median_to_be_between\n",
      "expect_column_min_to_be_between\n",
      "expect_column_proportion_of_unique_values_to_be_between\n",
      "expect_column_quantile_values_to_be_between\n",
      "expect_column_values_to_be_in_type_list\n",
      "expect_column_values_to_not_be_null\n",
      "\n",
      "\n",
      "Column Name: c | Column Data Type: INT | Cardinality: UNIQUE\n",
      "expect_column_max_to_be_between\n",
      "expect_column_mean_to_be_between\n",
      "expect_column_median_to_be_between\n",
      "expect_column_min_to_be_between\n",
      "expect_column_proportion_of_unique_values_to_be_between\n",
      "expect_column_quantile_values_to_be_between\n",
      "expect_column_values_to_be_in_type_list\n",
      "expect_column_values_to_not_be_null\n",
      "\n",
      "\n"
     ]
    }
   ],
   "source": [
    "\n",
    "profiler = UserConfigurableProfiler(\n",
    "                    profile_dataset=validator,\n",
    "                    excluded_expectations=None,\n",
    "                    \n",
    "                    not_null_only=False,\n",
    "                    primary_or_compound_key=False,\n",
    "                    semantic_types_dict=None,\n",
    "                    table_expectations_only=False,\n",
    "                    value_set_threshold=\"MANY\",\n",
    "                )\n",
    "suite =profiler.build_suite()"
   ]
  },
  {
   "cell_type": "code",
   "execution_count": 35,
   "id": "40e8ebb2",
   "metadata": {},
   "outputs": [],
   "source": [
    "dict_val = suite.to_json_dict()"
   ]
  },
  {
   "cell_type": "code",
   "execution_count": 20,
   "id": "f150d39a",
   "metadata": {},
   "outputs": [
    {
     "data": {
      "text/plain": [
       "[{\"kwargs\": {\"min_value\": 1, \"max_value\": 1, \"column\": \"a\"}, \"expectation_type\": \"expect_column_min_to_be_between\", \"meta\": {}},\n",
       " {\"kwargs\": {\"min_value\": 7, \"max_value\": 7, \"column\": \"a\"}, \"expectation_type\": \"expect_column_max_to_be_between\", \"meta\": {}},\n",
       " {\"kwargs\": {\"min_value\": 4.0, \"max_value\": 4.0, \"column\": \"a\"}, \"expectation_type\": \"expect_column_mean_to_be_between\", \"meta\": {}},\n",
       " {\"kwargs\": {\"min_value\": 4.0, \"max_value\": 4.0, \"column\": \"a\"}, \"expectation_type\": \"expect_column_median_to_be_between\", \"meta\": {}},\n",
       " {\"kwargs\": {\"quantile_ranges\": {\"quantiles\": [0.05, 0.25, 0.5, 0.75, 0.95], \"value_ranges\": [[1, 1], [1, 1], [4, 4], [4, 4], [4, 4]]}, \"allow_relative_error\": \"lower\", \"column\": \"a\"}, \"expectation_type\": \"expect_column_quantile_values_to_be_between\", \"meta\": {}},\n",
       " {\"kwargs\": {\"column\": \"a\"}, \"expectation_type\": \"expect_column_values_to_not_be_null\", \"meta\": {}},\n",
       " {\"kwargs\": {\"min_value\": 1.0, \"max_value\": 1.0, \"column\": \"a\"}, \"expectation_type\": \"expect_column_proportion_of_unique_values_to_be_between\", \"meta\": {}},\n",
       " {\"kwargs\": {\"type_list\": [\"INTEGER\", \"integer\", \"int\", \"int_\", \"int8\", \"int16\", \"int32\", \"int64\", \"uint8\", \"uint16\", \"uint32\", \"uint64\", \"Int8Dtype\", \"Int16Dtype\", \"Int32Dtype\", \"Int64Dtype\", \"UInt8Dtype\", \"UInt16Dtype\", \"UInt32Dtype\", \"UInt64Dtype\", \"INT\", \"INTEGER\", \"INT64\", \"TINYINT\", \"BYTEINT\", \"SMALLINT\", \"BIGINT\", \"IntegerType\", \"LongType\"], \"column\": \"a\"}, \"expectation_type\": \"expect_column_values_to_be_in_type_list\", \"meta\": {}},\n",
       " {\"kwargs\": {\"min_value\": 2, \"max_value\": 2, \"column\": \"b\"}, \"expectation_type\": \"expect_column_min_to_be_between\", \"meta\": {}},\n",
       " {\"kwargs\": {\"min_value\": 8, \"max_value\": 8, \"column\": \"b\"}, \"expectation_type\": \"expect_column_max_to_be_between\", \"meta\": {}},\n",
       " {\"kwargs\": {\"min_value\": 5.0, \"max_value\": 5.0, \"column\": \"b\"}, \"expectation_type\": \"expect_column_mean_to_be_between\", \"meta\": {}},\n",
       " {\"kwargs\": {\"min_value\": 5.0, \"max_value\": 5.0, \"column\": \"b\"}, \"expectation_type\": \"expect_column_median_to_be_between\", \"meta\": {}},\n",
       " {\"kwargs\": {\"quantile_ranges\": {\"quantiles\": [0.05, 0.25, 0.5, 0.75, 0.95], \"value_ranges\": [[2, 2], [2, 2], [5, 5], [5, 5], [5, 5]]}, \"allow_relative_error\": \"lower\", \"column\": \"b\"}, \"expectation_type\": \"expect_column_quantile_values_to_be_between\", \"meta\": {}},\n",
       " {\"kwargs\": {\"column\": \"b\"}, \"expectation_type\": \"expect_column_values_to_not_be_null\", \"meta\": {}},\n",
       " {\"kwargs\": {\"min_value\": 1.0, \"max_value\": 1.0, \"column\": \"b\"}, \"expectation_type\": \"expect_column_proportion_of_unique_values_to_be_between\", \"meta\": {}},\n",
       " {\"kwargs\": {\"type_list\": [\"INTEGER\", \"integer\", \"int\", \"int_\", \"int8\", \"int16\", \"int32\", \"int64\", \"uint8\", \"uint16\", \"uint32\", \"uint64\", \"Int8Dtype\", \"Int16Dtype\", \"Int32Dtype\", \"Int64Dtype\", \"UInt8Dtype\", \"UInt16Dtype\", \"UInt32Dtype\", \"UInt64Dtype\", \"INT\", \"INTEGER\", \"INT64\", \"TINYINT\", \"BYTEINT\", \"SMALLINT\", \"BIGINT\", \"IntegerType\", \"LongType\"], \"column\": \"b\"}, \"expectation_type\": \"expect_column_values_to_be_in_type_list\", \"meta\": {}},\n",
       " {\"kwargs\": {\"min_value\": 3, \"max_value\": 3, \"column\": \"c\"}, \"expectation_type\": \"expect_column_min_to_be_between\", \"meta\": {}},\n",
       " {\"kwargs\": {\"min_value\": 9, \"max_value\": 9, \"column\": \"c\"}, \"expectation_type\": \"expect_column_max_to_be_between\", \"meta\": {}},\n",
       " {\"kwargs\": {\"min_value\": 6.0, \"max_value\": 6.0, \"column\": \"c\"}, \"expectation_type\": \"expect_column_mean_to_be_between\", \"meta\": {}},\n",
       " {\"kwargs\": {\"min_value\": 6.0, \"max_value\": 6.0, \"column\": \"c\"}, \"expectation_type\": \"expect_column_median_to_be_between\", \"meta\": {}},\n",
       " {\"kwargs\": {\"quantile_ranges\": {\"quantiles\": [0.05, 0.25, 0.5, 0.75, 0.95], \"value_ranges\": [[3, 3], [3, 3], [6, 6], [6, 6], [6, 6]]}, \"allow_relative_error\": \"lower\", \"column\": \"c\"}, \"expectation_type\": \"expect_column_quantile_values_to_be_between\", \"meta\": {}},\n",
       " {\"kwargs\": {\"column\": \"c\"}, \"expectation_type\": \"expect_column_values_to_not_be_null\", \"meta\": {}},\n",
       " {\"kwargs\": {\"min_value\": 1.0, \"max_value\": 1.0, \"column\": \"c\"}, \"expectation_type\": \"expect_column_proportion_of_unique_values_to_be_between\", \"meta\": {}},\n",
       " {\"kwargs\": {\"type_list\": [\"INTEGER\", \"integer\", \"int\", \"int_\", \"int8\", \"int16\", \"int32\", \"int64\", \"uint8\", \"uint16\", \"uint32\", \"uint64\", \"Int8Dtype\", \"Int16Dtype\", \"Int32Dtype\", \"Int64Dtype\", \"UInt8Dtype\", \"UInt16Dtype\", \"UInt32Dtype\", \"UInt64Dtype\", \"INT\", \"INTEGER\", \"INT64\", \"TINYINT\", \"BYTEINT\", \"SMALLINT\", \"BIGINT\", \"IntegerType\", \"LongType\"], \"column\": \"c\"}, \"expectation_type\": \"expect_column_values_to_be_in_type_list\", \"meta\": {}}]"
      ]
     },
     "execution_count": 20,
     "metadata": {},
     "output_type": "execute_result"
    }
   ],
   "source": [
    "suite.get_column_expectations()"
   ]
  },
  {
   "cell_type": "code",
   "execution_count": 21,
   "id": "1cd31ac9",
   "metadata": {},
   "outputs": [
    {
     "data": {
      "text/plain": [
       "[{\"kwargs\": {\"column_list\": [\"a\", \"b\", \"c\"]}, \"expectation_type\": \"expect_table_columns_to_match_ordered_list\", \"meta\": {}},\n",
       " {\"kwargs\": {\"min_value\": 3, \"max_value\": 3}, \"expectation_type\": \"expect_table_row_count_to_be_between\", \"meta\": {}}]"
      ]
     },
     "execution_count": 21,
     "metadata": {},
     "output_type": "execute_result"
    }
   ],
   "source": [
    "suite.get_table_expectations()"
   ]
  },
  {
   "cell_type": "code",
   "execution_count": 29,
   "id": "89b5b182",
   "metadata": {},
   "outputs": [
    {
     "data": {
      "text/plain": [
       "\"['expect_table_columns_to_match_ordered_list', 'expect_table_row_count_to_be_between']\""
      ]
     },
     "execution_count": 29,
     "metadata": {},
     "output_type": "execute_result"
    }
   ],
   "source": [
    "table_expectations = str(\n",
    "                        [\n",
    "                            suite.get_table_expectations()[i][\"expectation_type\"]\n",
    "                            for i in range(len(suite.get_table_expectations()))\n",
    "                        ]\n",
    "                    )\n",
    "table_expectations"
   ]
  },
  {
   "cell_type": "code",
   "execution_count": 30,
   "id": "16f3579d",
   "metadata": {},
   "outputs": [
    {
     "data": {
      "text/plain": [
       "\"['expect_column_min_to_be_between', 'expect_column_max_to_be_between', 'expect_column_mean_to_be_between', 'expect_column_median_to_be_between', 'expect_column_quantile_values_to_be_between', 'expect_column_values_to_not_be_null', 'expect_column_proportion_of_unique_values_to_be_between', 'expect_column_values_to_be_in_type_list', 'expect_column_min_to_be_between', 'expect_column_max_to_be_between', 'expect_column_mean_to_be_between', 'expect_column_median_to_be_between', 'expect_column_quantile_values_to_be_between', 'expect_column_values_to_not_be_null', 'expect_column_proportion_of_unique_values_to_be_between', 'expect_column_values_to_be_in_type_list', 'expect_column_min_to_be_between', 'expect_column_max_to_be_between', 'expect_column_mean_to_be_between', 'expect_column_median_to_be_between', 'expect_column_quantile_values_to_be_between', 'expect_column_values_to_not_be_null', 'expect_column_proportion_of_unique_values_to_be_between', 'expect_column_values_to_be_in_type_list']\""
      ]
     },
     "execution_count": 30,
     "metadata": {},
     "output_type": "execute_result"
    }
   ],
   "source": [
    "column_expectations = str(\n",
    "                        [\n",
    "                            suite.get_column_expectations()[i][\"expectation_type\"]\n",
    "                            for i in range(len(suite.get_column_expectations()))\n",
    "                        ]\n",
    "                    )\n",
    "column_expectations"
   ]
  },
  {
   "cell_type": "code",
   "execution_count": 33,
   "id": "1162bcc8",
   "metadata": {},
   "outputs": [
    {
     "data": {
      "text/plain": [
       "[['expect_table_columns_to_match_ordered_list',\n",
       "  'expect_table_row_count_to_be_between']]"
      ]
     },
     "execution_count": 33,
     "metadata": {},
     "output_type": "execute_result"
    }
   ],
   "source": [
    "no_of_table_expectations = []\n",
    "no_of_table_expectations.append(\n",
    "                        [\n",
    "                            suite.get_table_expectations()[i][\"expectation_type\"]\n",
    "                            for i in range(len(suite.get_table_expectations()))\n",
    "                        ]\n",
    "                    )\n",
    "\n",
    "no_of_table_expectations\n"
   ]
  },
  {
   "cell_type": "code",
   "execution_count": 34,
   "id": "cee8866f",
   "metadata": {
    "scrolled": true
   },
   "outputs": [
    {
     "data": {
      "text/plain": [
       "[['expect_column_min_to_be_between',\n",
       "  'expect_column_max_to_be_between',\n",
       "  'expect_column_mean_to_be_between',\n",
       "  'expect_column_median_to_be_between',\n",
       "  'expect_column_quantile_values_to_be_between',\n",
       "  'expect_column_values_to_not_be_null',\n",
       "  'expect_column_proportion_of_unique_values_to_be_between',\n",
       "  'expect_column_values_to_be_in_type_list',\n",
       "  'expect_column_min_to_be_between',\n",
       "  'expect_column_max_to_be_between',\n",
       "  'expect_column_mean_to_be_between',\n",
       "  'expect_column_median_to_be_between',\n",
       "  'expect_column_quantile_values_to_be_between',\n",
       "  'expect_column_values_to_not_be_null',\n",
       "  'expect_column_proportion_of_unique_values_to_be_between',\n",
       "  'expect_column_values_to_be_in_type_list',\n",
       "  'expect_column_min_to_be_between',\n",
       "  'expect_column_max_to_be_between',\n",
       "  'expect_column_mean_to_be_between',\n",
       "  'expect_column_median_to_be_between',\n",
       "  'expect_column_quantile_values_to_be_between',\n",
       "  'expect_column_values_to_not_be_null',\n",
       "  'expect_column_proportion_of_unique_values_to_be_between',\n",
       "  'expect_column_values_to_be_in_type_list']]"
      ]
     },
     "execution_count": 34,
     "metadata": {},
     "output_type": "execute_result"
    }
   ],
   "source": [
    "no_of_column_expectations = []\n",
    "no_of_column_expectations.append(\n",
    "    [\n",
    "        suite.get_column_expectations()[i][\"expectation_type\"]\n",
    "        for i in range(len(suite.get_column_expectations()))\n",
    "    ]\n",
    ")\n",
    "no_of_column_expectations"
   ]
  },
  {
   "cell_type": "code",
   "execution_count": 42,
   "id": "976c3ab3",
   "metadata": {},
   "outputs": [
    {
     "data": {
      "text/plain": [
       "{'result': {'expectation_suite_name': 'test_suite',\n",
       "  'data_asset_type': None,\n",
       "  'expectations': [{'kwargs': {'column_list': ['a', 'b', 'c']},\n",
       "    'expectation_type': 'expect_table_columns_to_match_ordered_list',\n",
       "    'meta': {}},\n",
       "   {'kwargs': {'min_value': 3, 'max_value': 3},\n",
       "    'expectation_type': 'expect_table_row_count_to_be_between',\n",
       "    'meta': {}},\n",
       "   {'kwargs': {'min_value': 1, 'max_value': 1, 'column': 'a'},\n",
       "    'expectation_type': 'expect_column_min_to_be_between',\n",
       "    'meta': {}},\n",
       "   {'kwargs': {'min_value': 7, 'max_value': 7, 'column': 'a'},\n",
       "    'expectation_type': 'expect_column_max_to_be_between',\n",
       "    'meta': {}},\n",
       "   {'kwargs': {'min_value': 4.0, 'max_value': 4.0, 'column': 'a'},\n",
       "    'expectation_type': 'expect_column_mean_to_be_between',\n",
       "    'meta': {}},\n",
       "   {'kwargs': {'min_value': 4.0, 'max_value': 4.0, 'column': 'a'},\n",
       "    'expectation_type': 'expect_column_median_to_be_between',\n",
       "    'meta': {}},\n",
       "   {'kwargs': {'quantile_ranges': {'quantiles': [0.05, 0.25, 0.5, 0.75, 0.95],\n",
       "      'value_ranges': [[1, 1], [1, 1], [4, 4], [4, 4], [4, 4]]},\n",
       "     'allow_relative_error': 'lower',\n",
       "     'column': 'a'},\n",
       "    'expectation_type': 'expect_column_quantile_values_to_be_between',\n",
       "    'meta': {}},\n",
       "   {'kwargs': {'column': 'a'},\n",
       "    'expectation_type': 'expect_column_values_to_not_be_null',\n",
       "    'meta': {}},\n",
       "   {'kwargs': {'min_value': 1.0, 'max_value': 1.0, 'column': 'a'},\n",
       "    'expectation_type': 'expect_column_proportion_of_unique_values_to_be_between',\n",
       "    'meta': {}},\n",
       "   {'kwargs': {'type_list': ['INTEGER',\n",
       "      'integer',\n",
       "      'int',\n",
       "      'int_',\n",
       "      'int8',\n",
       "      'int16',\n",
       "      'int32',\n",
       "      'int64',\n",
       "      'uint8',\n",
       "      'uint16',\n",
       "      'uint32',\n",
       "      'uint64',\n",
       "      'Int8Dtype',\n",
       "      'Int16Dtype',\n",
       "      'Int32Dtype',\n",
       "      'Int64Dtype',\n",
       "      'UInt8Dtype',\n",
       "      'UInt16Dtype',\n",
       "      'UInt32Dtype',\n",
       "      'UInt64Dtype',\n",
       "      'INT',\n",
       "      'INTEGER',\n",
       "      'INT64',\n",
       "      'TINYINT',\n",
       "      'BYTEINT',\n",
       "      'SMALLINT',\n",
       "      'BIGINT',\n",
       "      'IntegerType',\n",
       "      'LongType'],\n",
       "     'column': 'a'},\n",
       "    'expectation_type': 'expect_column_values_to_be_in_type_list',\n",
       "    'meta': {}},\n",
       "   {'kwargs': {'min_value': 2, 'max_value': 2, 'column': 'b'},\n",
       "    'expectation_type': 'expect_column_min_to_be_between',\n",
       "    'meta': {}},\n",
       "   {'kwargs': {'min_value': 8, 'max_value': 8, 'column': 'b'},\n",
       "    'expectation_type': 'expect_column_max_to_be_between',\n",
       "    'meta': {}},\n",
       "   {'kwargs': {'min_value': 5.0, 'max_value': 5.0, 'column': 'b'},\n",
       "    'expectation_type': 'expect_column_mean_to_be_between',\n",
       "    'meta': {}},\n",
       "   {'kwargs': {'min_value': 5.0, 'max_value': 5.0, 'column': 'b'},\n",
       "    'expectation_type': 'expect_column_median_to_be_between',\n",
       "    'meta': {}},\n",
       "   {'kwargs': {'quantile_ranges': {'quantiles': [0.05, 0.25, 0.5, 0.75, 0.95],\n",
       "      'value_ranges': [[2, 2], [2, 2], [5, 5], [5, 5], [5, 5]]},\n",
       "     'allow_relative_error': 'lower',\n",
       "     'column': 'b'},\n",
       "    'expectation_type': 'expect_column_quantile_values_to_be_between',\n",
       "    'meta': {}},\n",
       "   {'kwargs': {'column': 'b'},\n",
       "    'expectation_type': 'expect_column_values_to_not_be_null',\n",
       "    'meta': {}},\n",
       "   {'kwargs': {'min_value': 1.0, 'max_value': 1.0, 'column': 'b'},\n",
       "    'expectation_type': 'expect_column_proportion_of_unique_values_to_be_between',\n",
       "    'meta': {}},\n",
       "   {'kwargs': {'type_list': ['INTEGER',\n",
       "      'integer',\n",
       "      'int',\n",
       "      'int_',\n",
       "      'int8',\n",
       "      'int16',\n",
       "      'int32',\n",
       "      'int64',\n",
       "      'uint8',\n",
       "      'uint16',\n",
       "      'uint32',\n",
       "      'uint64',\n",
       "      'Int8Dtype',\n",
       "      'Int16Dtype',\n",
       "      'Int32Dtype',\n",
       "      'Int64Dtype',\n",
       "      'UInt8Dtype',\n",
       "      'UInt16Dtype',\n",
       "      'UInt32Dtype',\n",
       "      'UInt64Dtype',\n",
       "      'INT',\n",
       "      'INTEGER',\n",
       "      'INT64',\n",
       "      'TINYINT',\n",
       "      'BYTEINT',\n",
       "      'SMALLINT',\n",
       "      'BIGINT',\n",
       "      'IntegerType',\n",
       "      'LongType'],\n",
       "     'column': 'b'},\n",
       "    'expectation_type': 'expect_column_values_to_be_in_type_list',\n",
       "    'meta': {}},\n",
       "   {'kwargs': {'min_value': 3, 'max_value': 3, 'column': 'c'},\n",
       "    'expectation_type': 'expect_column_min_to_be_between',\n",
       "    'meta': {}},\n",
       "   {'kwargs': {'min_value': 9, 'max_value': 9, 'column': 'c'},\n",
       "    'expectation_type': 'expect_column_max_to_be_between',\n",
       "    'meta': {}},\n",
       "   {'kwargs': {'min_value': 6.0, 'max_value': 6.0, 'column': 'c'},\n",
       "    'expectation_type': 'expect_column_mean_to_be_between',\n",
       "    'meta': {}},\n",
       "   {'kwargs': {'min_value': 6.0, 'max_value': 6.0, 'column': 'c'},\n",
       "    'expectation_type': 'expect_column_median_to_be_between',\n",
       "    'meta': {}},\n",
       "   {'kwargs': {'quantile_ranges': {'quantiles': [0.05, 0.25, 0.5, 0.75, 0.95],\n",
       "      'value_ranges': [[3, 3], [3, 3], [6, 6], [6, 6], [6, 6]]},\n",
       "     'allow_relative_error': 'lower',\n",
       "     'column': 'c'},\n",
       "    'expectation_type': 'expect_column_quantile_values_to_be_between',\n",
       "    'meta': {}},\n",
       "   {'kwargs': {'column': 'c'},\n",
       "    'expectation_type': 'expect_column_values_to_not_be_null',\n",
       "    'meta': {}},\n",
       "   {'kwargs': {'min_value': 1.0, 'max_value': 1.0, 'column': 'c'},\n",
       "    'expectation_type': 'expect_column_proportion_of_unique_values_to_be_between',\n",
       "    'meta': {}},\n",
       "   {'kwargs': {'type_list': ['INTEGER',\n",
       "      'integer',\n",
       "      'int',\n",
       "      'int_',\n",
       "      'int8',\n",
       "      'int16',\n",
       "      'int32',\n",
       "      'int64',\n",
       "      'uint8',\n",
       "      'uint16',\n",
       "      'uint32',\n",
       "      'uint64',\n",
       "      'Int8Dtype',\n",
       "      'Int16Dtype',\n",
       "      'Int32Dtype',\n",
       "      'Int64Dtype',\n",
       "      'UInt8Dtype',\n",
       "      'UInt16Dtype',\n",
       "      'UInt32Dtype',\n",
       "      'UInt64Dtype',\n",
       "      'INT',\n",
       "      'INTEGER',\n",
       "      'INT64',\n",
       "      'TINYINT',\n",
       "      'BYTEINT',\n",
       "      'SMALLINT',\n",
       "      'BIGINT',\n",
       "      'IntegerType',\n",
       "      'LongType'],\n",
       "     'column': 'c'},\n",
       "    'expectation_type': 'expect_column_values_to_be_in_type_list',\n",
       "    'meta': {}}],\n",
       "  'meta': {'great_expectations_version': '0.14.9',\n",
       "   'columns': {'a': {'description': ''},\n",
       "    'b': {'description': ''},\n",
       "    'c': {'description': ''}}},\n",
       "  'ge_cloud_id': None}}"
      ]
     },
     "execution_count": 42,
     "metadata": {},
     "output_type": "execute_result"
    }
   ],
   "source": [
    "{\"result\": dict_val}"
   ]
  },
  {
   "cell_type": "code",
   "execution_count": null,
   "id": "4368b83a",
   "metadata": {},
   "outputs": [],
   "source": []
  }
 ],
 "metadata": {
  "kernelspec": {
   "display_name": "Python 3 (ipykernel)",
   "language": "python",
   "name": "python3"
  },
  "language_info": {
   "codemirror_mode": {
    "name": "ipython",
    "version": 3
   },
   "file_extension": ".py",
   "mimetype": "text/x-python",
   "name": "python",
   "nbconvert_exporter": "python",
   "pygments_lexer": "ipython3",
   "version": "3.9.7"
  }
 },
 "nbformat": 4,
 "nbformat_minor": 5
}
