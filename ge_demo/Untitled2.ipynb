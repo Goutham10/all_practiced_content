{
 "cells": [
  {
   "cell_type": "code",
   "execution_count": 14,
   "id": "7921e00b",
   "metadata": {},
   "outputs": [],
   "source": [
    "from ruamel import yaml\n",
    "\n",
    "import great_expectations as ge\n",
    "from great_expectations.core.batch import BatchRequest, RuntimeBatchRequest"
   ]
  },
  {
   "cell_type": "code",
   "execution_count": 15,
   "id": "0b42dd6c",
   "metadata": {},
   "outputs": [
    {
     "name": "stderr",
     "output_type": "stream",
     "text": [
      "Cannot initialize datasource userdetails: Cannot initialize datasource userdetails, error: Couldn't instantiate class: SimpleSqlalchemyDatasource with config: \n",
      "\tintrospection\t\t{'whole_table': {'class_name': 'InferredAssetSqlDataConnector', 'module_name': 'great_expectations.datasource.data_connector'}}\n",
      "\tcredentials\t\t{'drivername': 'postgresql', 'username': 'postgres', 'password': 'sunny123', 'host': 'localhost', 'port': 5432, 'database': 'postgre_flask'}\n",
      "\tname\t\tuserdetails\n",
      " \n",
      "dict() got multiple values for keyword argument 'class_name'\n"
     ]
    }
   ],
   "source": [
    "context = ge.get_context()"
   ]
  },
  {
   "cell_type": "code",
   "execution_count": 16,
   "id": "d87e2ef1",
   "metadata": {},
   "outputs": [],
   "source": [
    "datasource_config = {\n",
    "    \"name\": \"taxi_datasource\",\n",
    "    \"class_name\": \"Datasource\",\n",
    "    \"module_name\": \"great_expectations.datasource\",\n",
    "    \"execution_engine\": {\n",
    "        \"module_name\": \"great_expectations.execution_engine\",\n",
    "        \"class_name\": \"PandasExecutionEngine\",\n",
    "    },\n",
    "    \"data_connectors\": {\n",
    "        \"default_runtime_data_connector_name\": {\n",
    "            \"class_name\": \"RuntimeDataConnector\",\n",
    "            \"module_name\": \"great_expectations.datasource.data_connector\",\n",
    "            \"batch_identifiers\": [\"default_identifier_name\"],\n",
    "        },\n",
    "        \"default_inferred_data_connector_name\": {\n",
    "            \"class_name\": \"InferredAssetFilesystemDataConnector\",\n",
    "            \"base_directory\": \"/home/vy/new.xlsx\",\n",
    "            \"default_regex\": {\"group_names\": [\"data_asset_name\"], \"pattern\": \"(.*)\"},\n",
    "        },\n",
    "    },\n",
    "}"
   ]
  },
  {
   "cell_type": "code",
   "execution_count": 17,
   "id": "88801af5",
   "metadata": {},
   "outputs": [
    {
     "data": {
      "text/plain": [
       "{'name': 'taxi_datasource',\n",
       " 'class_name': 'Datasource',\n",
       " 'module_name': 'great_expectations.datasource',\n",
       " 'execution_engine': {'module_name': 'great_expectations.execution_engine',\n",
       "  'class_name': 'PandasExecutionEngine'},\n",
       " 'data_connectors': {'default_runtime_data_connector_name': {'class_name': 'RuntimeDataConnector',\n",
       "   'module_name': 'great_expectations.datasource.data_connector',\n",
       "   'batch_identifiers': ['default_identifier_name']},\n",
       "  'default_inferred_data_connector_name': {'class_name': 'InferredAssetFilesystemDataConnector',\n",
       "   'base_directory': '/home/vy/new.xlsx',\n",
       "   'default_regex': {'group_names': ['data_asset_name'], 'pattern': '(.*)'}}}}"
      ]
     },
     "execution_count": 17,
     "metadata": {},
     "output_type": "execute_result"
    }
   ],
   "source": [
    "datasource_config"
   ]
  },
  {
   "cell_type": "code",
   "execution_count": 18,
   "id": "ea01c65b",
   "metadata": {},
   "outputs": [
    {
     "name": "stdout",
     "output_type": "stream",
     "text": [
      "Attempting to instantiate class from config...\n",
      "\tInstantiating as a Datasource, since class_name is Datasource\n",
      "\tSuccessfully instantiated Datasource\n",
      "\n",
      "\n",
      "ExecutionEngine class name: PandasExecutionEngine\n",
      "Data Connectors:\n",
      "\tdefault_inferred_data_connector_name : InferredAssetFilesystemDataConnector\n",
      "\n",
      "\tAvailable data_asset_names (0 of 0):\n",
      "\n",
      "\tUnmatched data_references (0 of 0):[]\n",
      "\n",
      "\tdefault_runtime_data_connector_name:RuntimeDataConnector\n",
      "\n",
      "\tAvailable data_asset_names (0 of 0):\n",
      "\t\tNote : RuntimeDataConnector will not have data_asset_names until they are passed in through RuntimeBatchRequest\n",
      "\n",
      "\tUnmatched data_references (0 of 0): []\n",
      "\n"
     ]
    },
    {
     "data": {
      "text/plain": [
       "<great_expectations.datasource.new_datasource.Datasource at 0x7f63c749cdc0>"
      ]
     },
     "execution_count": 18,
     "metadata": {},
     "output_type": "execute_result"
    }
   ],
   "source": [
    "context.test_yaml_config(yaml.dump(datasource_config))"
   ]
  },
  {
   "cell_type": "code",
   "execution_count": 19,
   "id": "a6587908",
   "metadata": {},
   "outputs": [
    {
     "name": "stdout",
     "output_type": "stream",
     "text": [
      "Attempting to instantiate class from config...\n",
      "\tInstantiating as a Datasource, since class_name is Datasource\n",
      "\tSuccessfully instantiated Datasource\n",
      "\n",
      "\n",
      "ExecutionEngine class name: PandasExecutionEngine\n",
      "Data Connectors:\n",
      "\tdefault_inferred_data_connector_name : InferredAssetFilesystemDataConnector\n",
      "\n",
      "\tAvailable data_asset_names (0 of 0):\n",
      "\n",
      "\tUnmatched data_references (0 of 0):[]\n",
      "\n",
      "\tdefault_runtime_data_connector_name:RuntimeDataConnector\n",
      "\n",
      "\tAvailable data_asset_names (0 of 0):\n",
      "\t\tNote : RuntimeDataConnector will not have data_asset_names until they are passed in through RuntimeBatchRequest\n",
      "\n",
      "\tUnmatched data_references (0 of 0): []\n",
      "\n"
     ]
    },
    {
     "data": {
      "text/plain": [
       "<great_expectations.datasource.new_datasource.Datasource at 0x7f63c74a63d0>"
      ]
     },
     "execution_count": 19,
     "metadata": {},
     "output_type": "execute_result"
    }
   ],
   "source": [
    "context.test_yaml_config(yaml.dump(datasource_config))"
   ]
  },
  {
   "cell_type": "code",
   "execution_count": 20,
   "id": "97165351",
   "metadata": {},
   "outputs": [
    {
     "data": {
      "text/plain": [
       "<great_expectations.datasource.new_datasource.Datasource at 0x7f63c7497820>"
      ]
     },
     "execution_count": 20,
     "metadata": {},
     "output_type": "execute_result"
    }
   ],
   "source": [
    "context.add_datasource(**datasource_config)"
   ]
  },
  {
   "cell_type": "code",
   "execution_count": 21,
   "id": "db695af7",
   "metadata": {},
   "outputs": [],
   "source": [
    "batch_request = RuntimeBatchRequest(\n",
    "    datasource_name=\"taxi_datasource\",\n",
    "    data_connector_name=\"default_runtime_data_connector_name\",\n",
    "    data_asset_name=\"<YOUR_MEANINGFUL_NAME>\",  # This can be anything that identifies this data_asset for you\n",
    "    runtime_parameters={\"path\": \"/home/vy/new.xlsx\"},  # Add your path here.\n",
    "    batch_identifiers={\"default_identifier_name\": \"default_identifier\"},\n",
    ")"
   ]
  },
  {
   "cell_type": "code",
   "execution_count": 22,
   "id": "e94998f3",
   "metadata": {},
   "outputs": [
    {
     "data": {
      "application/vnd.jupyter.widget-view+json": {
       "model_id": "82b82ee3228a4b8cb2b0e93f7270a18c",
       "version_major": 2,
       "version_minor": 0
      },
      "text/plain": [
       "Calculating Metrics:   0%|          | 0/1 [00:00<?, ?it/s]"
      ]
     },
     "metadata": {},
     "output_type": "display_data"
    },
    {
     "name": "stdout",
     "output_type": "stream",
     "text": [
      "   Unnamed: 0  0 First Name  Last Name  Gender        Country  Age  \\\n",
      "0           0  1      Dulce      Abril  Female  United States   32   \n",
      "1           1  2       Mara  Hashimoto  Female  Great Britain   25   \n",
      "2           2  3     Philip       Gent    Male         France   36   \n",
      "3           3  4   Kathleen     Hanner  Female  United States   25   \n",
      "4           4  5    Nereida    Magwood  Female  United States   58   \n",
      "\n",
      "         Date    Id        Full Name  \n",
      "0  15/10/2017  1562      Dulce Abril  \n",
      "1  16/08/2016  1582   Mara Hashimoto  \n",
      "2  21/05/2015  2587      Philip Gent  \n",
      "3  15/10/2017  3549  Kathleen Hanner  \n",
      "4  16/08/2016  2468  Nereida Magwood  \n"
     ]
    }
   ],
   "source": [
    "context.create_expectation_suite(\n",
    "    expectation_suite_name=\"test_suite\", overwrite_existing=True\n",
    ")\n",
    "validator = context.get_validator(\n",
    "    batch_request=batch_request, expectation_suite_name=\"test_suite\"\n",
    ")\n",
    "print(validator.head())"
   ]
  },
  {
   "cell_type": "code",
   "execution_count": 32,
   "id": "f1056e04",
   "metadata": {},
   "outputs": [
    {
     "data": {
      "application/vnd.jupyter.widget-view+json": {
       "model_id": "0b36d85ba4bb405a886340d0f2dec422",
       "version_major": 2,
       "version_minor": 0
      },
      "text/plain": [
       "Calculating Metrics:   0%|          | 0/1 [00:00<?, ?it/s]"
      ]
     },
     "metadata": {},
     "output_type": "display_data"
    },
    {
     "data": {
      "text/html": [
       "<div>\n",
       "<style scoped>\n",
       "    .dataframe tbody tr th:only-of-type {\n",
       "        vertical-align: middle;\n",
       "    }\n",
       "\n",
       "    .dataframe tbody tr th {\n",
       "        vertical-align: top;\n",
       "    }\n",
       "\n",
       "    .dataframe thead th {\n",
       "        text-align: right;\n",
       "    }\n",
       "</style>\n",
       "<table border=\"1\" class=\"dataframe\">\n",
       "  <thead>\n",
       "    <tr style=\"text-align: right;\">\n",
       "      <th></th>\n",
       "      <th>Unnamed: 0</th>\n",
       "      <th>0</th>\n",
       "      <th>First Name</th>\n",
       "      <th>Last Name</th>\n",
       "      <th>Gender</th>\n",
       "      <th>Country</th>\n",
       "      <th>Age</th>\n",
       "      <th>Date</th>\n",
       "      <th>Id</th>\n",
       "      <th>Full Name</th>\n",
       "    </tr>\n",
       "  </thead>\n",
       "  <tbody>\n",
       "    <tr>\n",
       "      <th>0</th>\n",
       "      <td>0</td>\n",
       "      <td>1</td>\n",
       "      <td>Dulce</td>\n",
       "      <td>Abril</td>\n",
       "      <td>Female</td>\n",
       "      <td>United States</td>\n",
       "      <td>32</td>\n",
       "      <td>15/10/2017</td>\n",
       "      <td>1562</td>\n",
       "      <td>Dulce Abril</td>\n",
       "    </tr>\n",
       "    <tr>\n",
       "      <th>1</th>\n",
       "      <td>1</td>\n",
       "      <td>2</td>\n",
       "      <td>Mara</td>\n",
       "      <td>Hashimoto</td>\n",
       "      <td>Female</td>\n",
       "      <td>Great Britain</td>\n",
       "      <td>25</td>\n",
       "      <td>16/08/2016</td>\n",
       "      <td>1582</td>\n",
       "      <td>Mara Hashimoto</td>\n",
       "    </tr>\n",
       "    <tr>\n",
       "      <th>2</th>\n",
       "      <td>2</td>\n",
       "      <td>3</td>\n",
       "      <td>Philip</td>\n",
       "      <td>Gent</td>\n",
       "      <td>Male</td>\n",
       "      <td>France</td>\n",
       "      <td>36</td>\n",
       "      <td>21/05/2015</td>\n",
       "      <td>2587</td>\n",
       "      <td>Philip Gent</td>\n",
       "    </tr>\n",
       "    <tr>\n",
       "      <th>3</th>\n",
       "      <td>3</td>\n",
       "      <td>4</td>\n",
       "      <td>Kathleen</td>\n",
       "      <td>Hanner</td>\n",
       "      <td>Female</td>\n",
       "      <td>United States</td>\n",
       "      <td>25</td>\n",
       "      <td>15/10/2017</td>\n",
       "      <td>3549</td>\n",
       "      <td>Kathleen Hanner</td>\n",
       "    </tr>\n",
       "    <tr>\n",
       "      <th>4</th>\n",
       "      <td>4</td>\n",
       "      <td>5</td>\n",
       "      <td>Nereida</td>\n",
       "      <td>Magwood</td>\n",
       "      <td>Female</td>\n",
       "      <td>United States</td>\n",
       "      <td>58</td>\n",
       "      <td>16/08/2016</td>\n",
       "      <td>2468</td>\n",
       "      <td>Nereida Magwood</td>\n",
       "    </tr>\n",
       "    <tr>\n",
       "      <th>5</th>\n",
       "      <td>5</td>\n",
       "      <td>6</td>\n",
       "      <td>Gaston</td>\n",
       "      <td>Brumm</td>\n",
       "      <td>Male</td>\n",
       "      <td>United States</td>\n",
       "      <td>24</td>\n",
       "      <td>21/05/2015</td>\n",
       "      <td>2554</td>\n",
       "      <td>Gaston Brumm</td>\n",
       "    </tr>\n",
       "    <tr>\n",
       "      <th>6</th>\n",
       "      <td>6</td>\n",
       "      <td>7</td>\n",
       "      <td>Etta</td>\n",
       "      <td>Hurn</td>\n",
       "      <td>Female</td>\n",
       "      <td>Great Britain</td>\n",
       "      <td>56</td>\n",
       "      <td>15/10/2017</td>\n",
       "      <td>3598</td>\n",
       "      <td>Etta Hurn</td>\n",
       "    </tr>\n",
       "    <tr>\n",
       "      <th>7</th>\n",
       "      <td>7</td>\n",
       "      <td>8</td>\n",
       "      <td>Earlean</td>\n",
       "      <td>Melgar</td>\n",
       "      <td>Female</td>\n",
       "      <td>United States</td>\n",
       "      <td>27</td>\n",
       "      <td>16/08/2016</td>\n",
       "      <td>2456</td>\n",
       "      <td>Earlean Melgar</td>\n",
       "    </tr>\n",
       "    <tr>\n",
       "      <th>8</th>\n",
       "      <td>8</td>\n",
       "      <td>9</td>\n",
       "      <td>Vincenza</td>\n",
       "      <td>Weiland</td>\n",
       "      <td>Female</td>\n",
       "      <td>United States</td>\n",
       "      <td>40</td>\n",
       "      <td>21/05/2015</td>\n",
       "      <td>6548</td>\n",
       "      <td>Vincenza Weiland</td>\n",
       "    </tr>\n",
       "  </tbody>\n",
       "</table>\n",
       "</div>"
      ],
      "text/plain": [
       "   Unnamed: 0  0 First Name  Last Name  Gender        Country  Age  \\\n",
       "0           0  1      Dulce      Abril  Female  United States   32   \n",
       "1           1  2       Mara  Hashimoto  Female  Great Britain   25   \n",
       "2           2  3     Philip       Gent    Male         France   36   \n",
       "3           3  4   Kathleen     Hanner  Female  United States   25   \n",
       "4           4  5    Nereida    Magwood  Female  United States   58   \n",
       "5           5  6     Gaston      Brumm    Male  United States   24   \n",
       "6           6  7       Etta       Hurn  Female  Great Britain   56   \n",
       "7           7  8    Earlean     Melgar  Female  United States   27   \n",
       "8           8  9   Vincenza    Weiland  Female  United States   40   \n",
       "\n",
       "         Date    Id         Full Name  \n",
       "0  15/10/2017  1562       Dulce Abril  \n",
       "1  16/08/2016  1582    Mara Hashimoto  \n",
       "2  21/05/2015  2587       Philip Gent  \n",
       "3  15/10/2017  3549   Kathleen Hanner  \n",
       "4  16/08/2016  2468   Nereida Magwood  \n",
       "5  21/05/2015  2554      Gaston Brumm  \n",
       "6  15/10/2017  3598         Etta Hurn  \n",
       "7  16/08/2016  2456    Earlean Melgar  \n",
       "8  21/05/2015  6548  Vincenza Weiland  "
      ]
     },
     "execution_count": 32,
     "metadata": {},
     "output_type": "execute_result"
    }
   ],
   "source": [
    "import pandas as pd\n",
    "df = pd.DataFrame(validator.head(10))\n",
    "\n",
    "df\n"
   ]
  },
  {
   "cell_type": "code",
   "execution_count": 34,
   "id": "6c016cda",
   "metadata": {},
   "outputs": [
    {
     "data": {
      "text/plain": [
       "{\n",
       "  \"expectation_suite_name\": \"ExpectationConfiguration\",\n",
       "  \"expectations\": [],\n",
       "  \"ge_cloud_id\": null,\n",
       "  \"data_asset_type\": null,\n",
       "  \"meta\": {\n",
       "    \"great_expectations_version\": \"0.14.9\"\n",
       "  }\n",
       "}"
      ]
     },
     "execution_count": 34,
     "metadata": {},
     "output_type": "execute_result"
    }
   ],
   "source": []
  },
  {
   "cell_type": "code",
   "execution_count": 37,
   "id": "d4076506",
   "metadata": {},
   "outputs": [
    {
     "ename": "TypeError",
     "evalue": "'ExpectationSuite' object is not callable",
     "output_type": "error",
     "traceback": [
      "\u001b[0;31m---------------------------------------------------------------------------\u001b[0m",
      "\u001b[0;31mTypeError\u001b[0m                                 Traceback (most recent call last)",
      "\u001b[0;32m/tmp/ipykernel_18151/4175350859.py\u001b[0m in \u001b[0;36m<module>\u001b[0;34m\u001b[0m\n\u001b[1;32m      2\u001b[0m     \u001b[0mexpectation_suite_name\u001b[0m\u001b[0;34m=\u001b[0m\u001b[0;34m\"ExpectationConfiguration\"\u001b[0m\u001b[0;34m,\u001b[0m \u001b[0moverwrite_existing\u001b[0m\u001b[0;34m=\u001b[0m\u001b[0;32mTrue\u001b[0m\u001b[0;34m\u001b[0m\u001b[0;34m\u001b[0m\u001b[0m\n\u001b[1;32m      3\u001b[0m )\n\u001b[0;32m----> 4\u001b[0;31m expectation_configuration = ExpectationConfiguration(\n\u001b[0m\u001b[1;32m      5\u001b[0m     \u001b[0mexpectation_type\u001b[0m\u001b[0;34m=\u001b[0m\u001b[0;34m\"expect_table_columns_to_match_ordered_list\"\u001b[0m\u001b[0;34m,\u001b[0m\u001b[0;34m\u001b[0m\u001b[0;34m\u001b[0m\u001b[0m\n\u001b[1;32m      6\u001b[0m \u001b[0;34m\u001b[0m\u001b[0m\n",
      "\u001b[0;31mTypeError\u001b[0m: 'ExpectationSuite' object is not callable"
     ]
    }
   ],
   "source": [
    "ExpectationConfiguration = context.create_expectation_suite(\n",
    "    expectation_suite_name=\"ExpectationConfiguration\", overwrite_existing=True\n",
    ")\n",
    "expectation_configuration = ExpectationConfiguration(\n",
    "    expectation_type=\"expect_table_columns_to_match_ordered_list\",\n",
    "    \n",
    "    kwargs = {\n",
    "        \"column_list\": [\n",
    "            \"First Name\", \"Last Name\", \"Gender\", \"Country\", \"Age\", \"Date\",\"Id\"\n",
    "        ]\n",
    "    },\n",
    "    \n",
    ")\n",
    "\n",
    "suite.add_expectation(expectation_configuration = expectation_configuration)"
   ]
  },
  {
   "cell_type": "code",
   "execution_count": null,
   "id": "971f8f06",
   "metadata": {},
   "outputs": [],
   "source": []
  }
 ],
 "metadata": {
  "kernelspec": {
   "display_name": "Python 3 (ipykernel)",
   "language": "python",
   "name": "python3"
  },
  "language_info": {
   "codemirror_mode": {
    "name": "ipython",
    "version": 3
   },
   "file_extension": ".py",
   "mimetype": "text/x-python",
   "name": "python",
   "nbconvert_exporter": "python",
   "pygments_lexer": "ipython3",
   "version": "3.9.7"
  }
 },
 "nbformat": 4,
 "nbformat_minor": 5
}
